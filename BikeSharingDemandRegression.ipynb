{
 "cells": [
  {
   "cell_type": "code",
   "execution_count": 111,
   "metadata": {},
   "outputs": [],
   "source": [
    "import warnings\n",
    "import pandas as pd\n",
    "import numpy as np\n",
    "import seaborn as sns\n",
    "import matplotlib.pyplot as plt\n",
    "warnings.filterwarnings('ignore')"
   ]
  },
  {
   "cell_type": "code",
   "execution_count": 112,
   "metadata": {},
   "outputs": [],
   "source": [
    "train_df = pd.read_csv('./datasets/bike-sharing-demand/train.csv')\n",
    "test_df = pd.read_csv('./datasets/bike-sharing-demand/test.csv')"
   ]
  },
  {
   "cell_type": "code",
   "execution_count": 113,
   "metadata": {},
   "outputs": [],
   "source": [
    "train_df['datetime'] = train_df['datetime'].apply(pd.to_datetime)\n",
    "test_df['datetime'] = test_df['datetime'].apply(pd.to_datetime)"
   ]
  },
  {
   "cell_type": "code",
   "execution_count": 114,
   "metadata": {},
   "outputs": [],
   "source": [
    "train_df['year'] = train_df['datetime'].apply(lambda x : x.year)\n",
    "train_df['month'] = train_df['datetime'].apply(lambda x : x.month)\n",
    "train_df['day'] = train_df['datetime'].apply(lambda x : x.day)\n",
    "train_df['hour'] = train_df['datetime'].apply(lambda x : x.hour)"
   ]
  },
  {
   "cell_type": "code",
   "execution_count": 115,
   "metadata": {},
   "outputs": [],
   "source": [
    "test_df['year'] = test_df['datetime'].apply(lambda x : x.year)\n",
    "test_df['month'] = test_df['datetime'].apply(lambda x : x.month)\n",
    "test_df['day'] = test_df['datetime'].apply(lambda x : x.day)\n",
    "test_df['hour'] = test_df['datetime'].apply(lambda x : x.hour)"
   ]
  },
  {
   "cell_type": "code",
   "execution_count": 116,
   "metadata": {},
   "outputs": [],
   "source": [
    "train_df.drop(labels=['casual', 'registered', 'datetime'], axis=1, inplace=True)\n",
    "test_df.drop(labels=['datetime'], axis=1, inplace=True)"
   ]
  },
  {
   "cell_type": "code",
   "execution_count": 120,
   "metadata": {},
   "outputs": [],
   "source": [
    "from sklearn.model_selection import train_test_split\n",
    "X = train_df.drop('count', axis=1)\n",
    "y = train_df['count']\n",
    "\n",
    "X_train, X_test, y_train, y_test = train_test_split(X, y, test_size=0.3, random_state=0)"
   ]
  },
  {
   "cell_type": "code",
   "execution_count": 121,
   "metadata": {},
   "outputs": [],
   "source": [
    "from sklearn.preprocessing import StandardScaler\n",
    "\n",
    "scaler = StandardScaler()\n",
    "X_train[['temp', 'atemp', 'humidity', 'windspeed']] = scaler.fit_transform(X_train[['temp', 'atemp', 'humidity', 'windspeed']])\n",
    "X_test[['temp', 'atemp', 'humidity', 'windspeed']] = scaler.fit_transform(X_test[['temp', 'atemp', 'humidity', 'windspeed']])"
   ]
  },
  {
   "cell_type": "code",
   "execution_count": 123,
   "metadata": {},
   "outputs": [
    {
     "name": "stdout",
     "output_type": "stream",
     "text": [
      "LinearRegression의 rmse의 평균 : 142.14899663784644\n",
      "LinearRegression의 mse : 19857.80396425714, rmse : 140.9177205473362, mae : 105.57092595681317, r2score : 0.38851790711842227\n",
      "================================================\n",
      "Ridge의 rmse의 평균 : 142.1486480175425\n",
      "Ridge의 mse : 19857.938315613814, rmse : 140.91819724795593, mae : 105.56923764957016, r2score : 0.38851377003212073\n",
      "================================================\n",
      "Lasso의 rmse의 평균 : 142.18283236316773\n",
      "Lasso의 mse : 19871.839886374113, rmse : 140.96751358513106, mae : 105.19860026822546, r2score : 0.38808569844887053\n",
      "================================================\n",
      "ElasticNet의 rmse의 평균 : 145.68473804489395\n",
      "ElasticNet의 mse : 20996.342603765763, rmse : 144.90114769650987, mae : 106.75380920061716, r2score : 0.3534588446276057\n",
      "================================================\n"
     ]
    }
   ],
   "source": [
    "from sklearn.linear_model import LinearRegression, Ridge, Lasso, ElasticNet\n",
    "from sklearn.model_selection import cross_val_score\n",
    "from sklearn.metrics import mean_squared_error, r2_score, mean_absolute_error\n",
    "\n",
    "lr = LinearRegression()\n",
    "ridge = Ridge()\n",
    "lasso = Lasso()\n",
    "els = ElasticNet(random_state=42)\n",
    "\n",
    "models = ['LinearRegression', 'Ridge', 'Lasso', 'ElasticNet']\n",
    "\n",
    "for model in models:\n",
    "\tif model == \"LinearRegression\":\n",
    "\t\testimator = lr\n",
    "\telif model =='Ridge':\n",
    "\t\testimator = ridge\n",
    "\telif model =='Lasso':\n",
    "\t\testimator = lasso\n",
    "\telse :\n",
    "\t\testimator = els\n",
    "\tresult = cross_val_score(estimator, X_train, y_train, cv=5, scoring=\"neg_mean_squared_error\")\n",
    "\tavg_rmse = np.mean(np.sqrt(-1 * result))\n",
    "\tprint(f'{model}의 rmse의 평균 : {avg_rmse}')\n",
    "\testimator.fit(X_train, y_train)\n",
    "\tpred = estimator.predict(X_test)\n",
    "\n",
    "\tmse = mean_squared_error(y_test, pred)\n",
    "\tmae = mean_absolute_error(y_test, pred)\n",
    "\trmse = np.sqrt(mse)\n",
    "\tr2score = r2_score(y_test, pred)\n",
    "\n",
    "\tprint(f'{model}의 mse : {mse}, rmse : {rmse}, mae : {mae}, r2score : {r2score}')\n",
    "\tprint(\"===============================================================\")"
   ]
  },
  {
   "cell_type": "code",
   "execution_count": 124,
   "metadata": {},
   "outputs": [
    {
     "data": {
      "text/plain": [
       "<Axes: >"
      ]
     },
     "execution_count": 124,
     "metadata": {},
     "output_type": "execute_result"
    },
    {
     "data": {
      "image/png": "[encoded data removed]",
      "text/plain": [
       "<Figure size 640x480 with 1 Axes>"
      ]
     },
     "metadata": {},
     "output_type": "display_data"
    }
   ],
   "source": [
    "y_train.hist()"
   ]
  },
  {
   "cell_type": "code",
   "execution_count": 128,
   "metadata": {},
   "outputs": [],
   "source": [
    "loged_scaled_y_train = np.log1p(y_train)\n",
    "loged_scaled_y_test = np.log1p(y_test)"
   ]
  },
  {
   "cell_type": "code",
   "execution_count": 126,
   "metadata": {},
   "outputs": [
    {
     "data": {
      "text/plain": [
       "<Axes: >"
      ]
     },
     "execution_count": 126,
     "metadata": {},
     "output_type": "execute_result"
    },
    {
     "data": {
      "image/png": "[encoded data removed]",
      "text/plain": [
       "<Figure size 640x480 with 1 Axes>"
      ]
     },
     "metadata": {},
     "output_type": "display_data"
    }
   ],
   "source": [
    "loged_scaled_y_train.hist()"
   ]
  },
  {
   "cell_type": "code",
   "execution_count": 129,
   "metadata": {},
   "outputs": [
    {
     "name": "stdout",
     "output_type": "stream",
     "text": [
      "LinearRegression의 rmse의 평균 : 1.018359168050384\n",
      "LinearRegression의 mse : 47815.97295323071, rmse : 218.668637333365, mae : 190.79633826798624, r2score : -23654.45784463637\n",
      "===============================================================\n",
      "Ridge의 rmse의 평균 : 1.0183561652659292\n",
      "Ridge의 mse : 47813.06936679608, rmse : 218.66199799415554, mae : 190.7934407972627, r2score : -23653.021386016782\n",
      "===============================================================\n",
      "Lasso의 rmse의 평균 : 1.1732102172902292\n",
      "Lasso의 mse : 47427.80596800432, rmse : 217.77925972875454, mae : 190.45035596071418, r2score : -23462.424363174356\n",
      "===============================================================\n",
      "ElasticNet의 rmse의 평균 : 1.1506961989049262\n",
      "ElasticNet의 mse : 43680.35593406344, rmse : 208.99845916672075, mae : 187.32269359335123, r2score : -21608.49060782702\n",
      "===============================================================\n"
     ]
    }
   ],
   "source": [
    "from sklearn.linear_model import LinearRegression, Ridge, Lasso, ElasticNet\n",
    "from sklearn.model_selection import cross_val_score\n",
    "from sklearn.metrics import mean_squared_error, r2_score, mean_absolute_error\n",
    "\n",
    "lr = LinearRegression()\n",
    "ridge = Ridge()\n",
    "lasso = Lasso()\n",
    "els = ElasticNet(random_state=42)\n",
    "\n",
    "models = ['LinearRegression', 'Ridge', 'Lasso', 'ElasticNet']\n",
    "\n",
    "for model in models:\n",
    "\tif model == \"LinearRegression\":\n",
    "\t\testimator = lr\n",
    "\telif model =='Ridge':\n",
    "\t\testimator = ridge\n",
    "\telif model =='Lasso':\n",
    "\t\testimator = lasso\n",
    "\telse :\n",
    "\t\testimator = els\n",
    "\tresult = cross_val_score(estimator, X_train, loged_scaled_y_train, cv=5, scoring=\"neg_mean_squared_error\")\n",
    "\tavg_rmse = np.mean(np.sqrt(-1 * result))\n",
    "\tprint(f'{model}의 rmse의 평균 : {avg_rmse}')\n",
    "\testimator.fit(X_train, y_train)\n",
    "\tpred = estimator.predict(X_test)\n",
    "\n",
    "\tmse = mean_squared_error(loged_scaled_y_test, pred)\n",
    "\tmae = mean_absolute_error(loged_scaled_y_test, pred)\n",
    "\trmse = np.sqrt(mse)\n",
    "\tr2score = r2_score(loged_scaled_y_test, pred)\n",
    "\n",
    "\tprint(f'{model}의 mse : {mse}, rmse : {rmse}, mae : {mae}, r2score : {r2score}')\n",
    "\tprint(\"===============================================================\")"
   ]
  },
  {
   "cell_type": "code",
   "execution_count": null,
   "metadata": {},
   "outputs": [],
   "source": []
  }
 ],
 "metadata": {
  "kernelspec": {
   "display_name": "Python 3",
   "language": "python",
   "name": "python3"
  },
  "language_info": {
   "codemirror_mode": {
    "name": "ipython",
    "version": 3
   },
   "file_extension": ".py",
   "mimetype": "text/x-python",
   "name": "python",
   "nbconvert_exporter": "python",
   "pygments_lexer": "ipython3",
   "version": "3.11.4"
  },
  "orig_nbformat": 4
 },
 "nbformat": 4,
 "nbformat_minor": 2
}
