{
 "cells": [
  {
   "cell_type": "code",
   "execution_count": 1,
   "metadata": {},
   "outputs": [],
   "source": [
    "import pandas as pd\n",
    "import numpy as np\n",
    "import warnings\n",
    "from sklearn.preprocessing import LabelEncoder\n",
    "from sklearn.preprocessing import MinMaxScaler\n",
    "from sklearn.linear_model import LogisticRegression"
   ]
  },
  {
   "cell_type": "code",
   "execution_count": 2,
   "metadata": {},
   "outputs": [],
   "source": [
    "warnings.filterwarnings('ignore')\n",
    "\n",
    "train_df = pd.read_csv('./datasets/titanic/train.csv')\n",
    "test_df = pd.read_csv('./datasets/titanic/test.csv')\n",
    "test_y_df = pd.read_csv('./datasets/titanic/gender_submission.csv')"
   ]
  },
  {
   "cell_type": "code",
   "execution_count": 3,
   "metadata": {},
   "outputs": [],
   "source": [
    "train = train_df[['Pclass', 'Sex', 'Age', 'Survived']]\n",
    "test = test_df[['Pclass', 'Sex', 'Age']]\n",
    "test_y = test_y_df['Survived']"
   ]
  },
  {
   "cell_type": "code",
   "execution_count": 4,
   "metadata": {},
   "outputs": [
    {
     "data": {
      "text/plain": [
       "Pclass        0\n",
       "Sex           0\n",
       "Age         177\n",
       "Survived      0\n",
       "dtype: int64"
      ]
     },
     "execution_count": 4,
     "metadata": {},
     "output_type": "execute_result"
    }
   ],
   "source": [
    "train.isnull().sum()"
   ]
  },
  {
   "cell_type": "code",
   "execution_count": 5,
   "metadata": {},
   "outputs": [],
   "source": [
    "train = train.dropna(axis=0)"
   ]
  },
  {
   "cell_type": "code",
   "execution_count": 6,
   "metadata": {},
   "outputs": [],
   "source": [
    "# 'Sex' Labelencoding\n",
    "encoder = LabelEncoder()\n",
    "data = encoder.fit_transform(train['Sex'])\n",
    "\n",
    "train['Sex'] = data"
   ]
  },
  {
   "cell_type": "code",
   "execution_count": 7,
   "metadata": {},
   "outputs": [],
   "source": [
    "# 'Age' Scaling\n",
    "scaler = MinMaxScaler()\n",
    "data = scaler.fit_transform(train[['Age']])\n",
    "\n",
    "train['Age'] = data"
   ]
  },
  {
   "cell_type": "code",
   "execution_count": 8,
   "metadata": {},
   "outputs": [
    {
     "data": {
      "text/html": [
       "<style>#sk-container-id-1 {color: black;background-color: white;}#sk-container-id-1 pre{padding: 0;}#sk-container-id-1 div.sk-toggleable {background-color: white;}#sk-container-id-1 label.sk-toggleable__label {cursor: pointer;display: block;width: 100%;margin-bottom: 0;padding: 0.3em;box-sizing: border-box;text-align: center;}#sk-container-id-1 label.sk-toggleable__label-arrow:before {content: \"▸\";float: left;margin-right: 0.25em;color: #696969;}#sk-container-id-1 label.sk-toggleable__label-arrow:hover:before {color: black;}#sk-container-id-1 div.sk-estimator:hover label.sk-toggleable__label-arrow:before {color: black;}#sk-container-id-1 div.sk-toggleable__content {max-height: 0;max-width: 0;overflow: hidden;text-align: left;background-color: #f0f8ff;}#sk-container-id-1 div.sk-toggleable__content pre {margin: 0.2em;color: black;border-radius: 0.25em;background-color: #f0f8ff;}#sk-container-id-1 input.sk-toggleable__control:checked~div.sk-toggleable__content {max-height: 200px;max-width: 100%;overflow: auto;}#sk-container-id-1 input.sk-toggleable__control:checked~label.sk-toggleable__label-arrow:before {content: \"▾\";}#sk-container-id-1 div.sk-estimator input.sk-toggleable__control:checked~label.sk-toggleable__label {background-color: #d4ebff;}#sk-container-id-1 div.sk-label input.sk-toggleable__control:checked~label.sk-toggleable__label {background-color: #d4ebff;}#sk-container-id-1 input.sk-hidden--visually {border: 0;clip: rect(1px 1px 1px 1px);clip: rect(1px, 1px, 1px, 1px);height: 1px;margin: -1px;overflow: hidden;padding: 0;position: absolute;width: 1px;}#sk-container-id-1 div.sk-estimator {font-family: monospace;background-color: #f0f8ff;border: 1px dotted black;border-radius: 0.25em;box-sizing: border-box;margin-bottom: 0.5em;}#sk-container-id-1 div.sk-estimator:hover {background-color: #d4ebff;}#sk-container-id-1 div.sk-parallel-item::after {content: \"\";width: 100%;border-bottom: 1px solid gray;flex-grow: 1;}#sk-container-id-1 div.sk-label:hover label.sk-toggleable__label {background-color: #d4ebff;}#sk-container-id-1 div.sk-serial::before {content: \"\";position: absolute;border-left: 1px solid gray;box-sizing: border-box;top: 0;bottom: 0;left: 50%;z-index: 0;}#sk-container-id-1 div.sk-serial {display: flex;flex-direction: column;align-items: center;background-color: white;padding-right: 0.2em;padding-left: 0.2em;position: relative;}#sk-container-id-1 div.sk-item {position: relative;z-index: 1;}#sk-container-id-1 div.sk-parallel {display: flex;align-items: stretch;justify-content: center;background-color: white;position: relative;}#sk-container-id-1 div.sk-item::before, #sk-container-id-1 div.sk-parallel-item::before {content: \"\";position: absolute;border-left: 1px solid gray;box-sizing: border-box;top: 0;bottom: 0;left: 50%;z-index: -1;}#sk-container-id-1 div.sk-parallel-item {display: flex;flex-direction: column;z-index: 1;position: relative;background-color: white;}#sk-container-id-1 div.sk-parallel-item:first-child::after {align-self: flex-end;width: 50%;}#sk-container-id-1 div.sk-parallel-item:last-child::after {align-self: flex-start;width: 50%;}#sk-container-id-1 div.sk-parallel-item:only-child::after {width: 0;}#sk-container-id-1 div.sk-dashed-wrapped {border: 1px dashed gray;margin: 0 0.4em 0.5em 0.4em;box-sizing: border-box;padding-bottom: 0.4em;background-color: white;}#sk-container-id-1 div.sk-label label {font-family: monospace;font-weight: bold;display: inline-block;line-height: 1.2em;}#sk-container-id-1 div.sk-label-container {text-align: center;}#sk-container-id-1 div.sk-container {/* jupyter's `normalize.less` sets `[hidden] { display: none; }` but bootstrap.min.css set `[hidden] { display: none !important; }` so we also need the `!important` here to be able to override the default hidden behavior on the sphinx rendered scikit-learn.org. See: https://github.com/scikit-learn/scikit-learn/issues/21755 */display: inline-block !important;position: relative;}#sk-container-id-1 div.sk-text-repr-fallback {display: none;}</style><div id=\"sk-container-id-1\" class=\"sk-top-container\"><div class=\"sk-text-repr-fallback\"><pre>LogisticRegression()</pre><b>In a Jupyter environment, please rerun this cell to show the HTML representation or trust the notebook. <br />On GitHub, the HTML representation is unable to render, please try loading this page with nbviewer.org.</b></div><div class=\"sk-container\" hidden><div class=\"sk-item\"><div class=\"sk-estimator sk-toggleable\"><input class=\"sk-toggleable__control sk-hidden--visually\" id=\"sk-estimator-id-1\" type=\"checkbox\" checked><label for=\"sk-estimator-id-1\" class=\"sk-toggleable__label sk-toggleable__label-arrow\">LogisticRegression</label><div class=\"sk-toggleable__content\"><pre>LogisticRegression()</pre></div></div></div></div></div>"
      ],
      "text/plain": [
       "LogisticRegression()"
      ]
     },
     "execution_count": 8,
     "metadata": {},
     "output_type": "execute_result"
    }
   ],
   "source": [
    "X = train.drop('Survived', axis=1)\n",
    "y = train['Survived']\n",
    "\n",
    "lr = LogisticRegression()\n",
    "\n",
    "lr.fit(X, y)"
   ]
  },
  {
   "cell_type": "code",
   "execution_count": 9,
   "metadata": {},
   "outputs": [],
   "source": [
    "# test data 전처리\n",
    "test = test.fillna(np.mean(test['Age']))\n",
    "\n",
    "# 'Sex' Labelencoding\n",
    "encoder = LabelEncoder()\n",
    "data = encoder.fit_transform(test['Sex'])\n",
    "\n",
    "test['Sex'] = data\n",
    "\n",
    "# 'Age' Scaling\n",
    "scaler = MinMaxScaler()\n",
    "data = scaler.fit_transform(test[['Age']])\n",
    "\n",
    "test['Age'] = data"
   ]
  },
  {
   "cell_type": "code",
   "execution_count": 12,
   "metadata": {},
   "outputs": [
    {
     "data": {
      "text/html": [
       "<div>\n",
       "<style scoped>\n",
       "    .dataframe tbody tr th:only-of-type {\n",
       "        vertical-align: middle;\n",
       "    }\n",
       "\n",
       "    .dataframe tbody tr th {\n",
       "        vertical-align: top;\n",
       "    }\n",
       "\n",
       "    .dataframe thead th {\n",
       "        text-align: right;\n",
       "    }\n",
       "</style>\n",
       "<table border=\"1\" class=\"dataframe\">\n",
       "  <thead>\n",
       "    <tr style=\"text-align: right;\">\n",
       "      <th></th>\n",
       "      <th>Pclass</th>\n",
       "      <th>Sex</th>\n",
       "      <th>Age</th>\n",
       "      <th>Survived</th>\n",
       "    </tr>\n",
       "  </thead>\n",
       "  <tbody>\n",
       "    <tr>\n",
       "      <th>0</th>\n",
       "      <td>3</td>\n",
       "      <td>1</td>\n",
       "      <td>0.271174</td>\n",
       "      <td>0</td>\n",
       "    </tr>\n",
       "    <tr>\n",
       "      <th>1</th>\n",
       "      <td>1</td>\n",
       "      <td>0</td>\n",
       "      <td>0.472229</td>\n",
       "      <td>1</td>\n",
       "    </tr>\n",
       "    <tr>\n",
       "      <th>2</th>\n",
       "      <td>3</td>\n",
       "      <td>0</td>\n",
       "      <td>0.321438</td>\n",
       "      <td>1</td>\n",
       "    </tr>\n",
       "    <tr>\n",
       "      <th>3</th>\n",
       "      <td>1</td>\n",
       "      <td>0</td>\n",
       "      <td>0.434531</td>\n",
       "      <td>1</td>\n",
       "    </tr>\n",
       "    <tr>\n",
       "      <th>4</th>\n",
       "      <td>3</td>\n",
       "      <td>1</td>\n",
       "      <td>0.434531</td>\n",
       "      <td>0</td>\n",
       "    </tr>\n",
       "    <tr>\n",
       "      <th>...</th>\n",
       "      <td>...</td>\n",
       "      <td>...</td>\n",
       "      <td>...</td>\n",
       "      <td>...</td>\n",
       "    </tr>\n",
       "    <tr>\n",
       "      <th>885</th>\n",
       "      <td>3</td>\n",
       "      <td>0</td>\n",
       "      <td>0.484795</td>\n",
       "      <td>0</td>\n",
       "    </tr>\n",
       "    <tr>\n",
       "      <th>886</th>\n",
       "      <td>2</td>\n",
       "      <td>1</td>\n",
       "      <td>0.334004</td>\n",
       "      <td>0</td>\n",
       "    </tr>\n",
       "    <tr>\n",
       "      <th>887</th>\n",
       "      <td>1</td>\n",
       "      <td>0</td>\n",
       "      <td>0.233476</td>\n",
       "      <td>1</td>\n",
       "    </tr>\n",
       "    <tr>\n",
       "      <th>889</th>\n",
       "      <td>1</td>\n",
       "      <td>1</td>\n",
       "      <td>0.321438</td>\n",
       "      <td>1</td>\n",
       "    </tr>\n",
       "    <tr>\n",
       "      <th>890</th>\n",
       "      <td>3</td>\n",
       "      <td>1</td>\n",
       "      <td>0.396833</td>\n",
       "      <td>0</td>\n",
       "    </tr>\n",
       "  </tbody>\n",
       "</table>\n",
       "<p>714 rows × 4 columns</p>\n",
       "</div>"
      ],
      "text/plain": [
       "     Pclass  Sex       Age  Survived\n",
       "0         3    1  0.271174         0\n",
       "1         1    0  0.472229         1\n",
       "2         3    0  0.321438         1\n",
       "3         1    0  0.434531         1\n",
       "4         3    1  0.434531         0\n",
       "..      ...  ...       ...       ...\n",
       "885       3    0  0.484795         0\n",
       "886       2    1  0.334004         0\n",
       "887       1    0  0.233476         1\n",
       "889       1    1  0.321438         1\n",
       "890       3    1  0.396833         0\n",
       "\n",
       "[714 rows x 4 columns]"
      ]
     },
     "execution_count": 12,
     "metadata": {},
     "output_type": "execute_result"
    }
   ],
   "source": [
    "train"
   ]
  },
  {
   "cell_type": "code",
   "execution_count": 13,
   "metadata": {},
   "outputs": [
    {
     "data": {
      "text/plain": [
       "0      0\n",
       "1      1\n",
       "2      0\n",
       "3      0\n",
       "4      1\n",
       "      ..\n",
       "413    0\n",
       "414    1\n",
       "415    0\n",
       "416    0\n",
       "417    0\n",
       "Name: Survived, Length: 418, dtype: int64"
      ]
     },
     "execution_count": 13,
     "metadata": {},
     "output_type": "execute_result"
    }
   ],
   "source": [
    "test"
   ]
  },
  {
   "cell_type": "code",
   "execution_count": 11,
   "metadata": {},
   "outputs": [],
   "source": [
    "pred = lr.predict(test)"
   ]
  },
  {
   "cell_type": "markdown",
   "metadata": {},
   "source": [
    "### accuracy_score, recall_score, precision_score, F1 score\n",
    "#### sklearn.metrics.accuracy_score\n",
    "> sklearn.metrics.accuracy_score(y_true, y_pred, *, normalize=True, sample_weight=None)\n",
    "\n",
    "#### sklearn.metrics.recall_score\n",
    "> sklearn.metrics.recall_score(y_true, y_pred, *, labels=None, pos_label=1, average='binary', sample_weight=None, zero_division='warn')\n",
    "\n",
    "#### sklearn.metrics.precision_score\n",
    "> sklearn.metrics.precision_score(y_true, y_pred, *, labels=None, pos_label=1, average='binary', sample_weight=None, zero_division='warn')\n",
    "\n",
    "#### sklearn.metrics.f1_score\n",
    "> sklearn.metrics.f1_score(y_true, y_pred, *, labels=None, pos_label=1, average='binary', sample_weight=None, zero_division='warn')\n",
    "\n",
    "#### sklearn.metrics.confusion_matrix\n",
    "> sklearn.metrics.confusion_matrix(y_true, y_pred, *, labels=None, sample_weight=None, normalize=None)\n",
    "\n",
    "#### sklearn.metrics.precision_recall_curve\n",
    "> sklearn.metrics.precision_recall_curve(y_true, probas_pred, *, pos_label=None, sample_weight=None, drop_intermediate=False)"
   ]
  },
  {
   "cell_type": "code",
   "execution_count": 14,
   "metadata": {},
   "outputs": [],
   "source": [
    "from sklearn.metrics import accuracy_score, recall_score, precision_score, f1_score, confusion_matrix"
   ]
  },
  {
   "cell_type": "code",
   "execution_count": 19,
   "metadata": {},
   "outputs": [],
   "source": [
    "def get_eval(y_test, pred):\n",
    "\taccuracy = accuracy_score(y_test, pred)\n",
    "\trecall = recall_score(y_test, pred)\n",
    "\tprecision = precision_score(y_test, pred)\n",
    "\tf1score = f1_score(y_test, pred)\n",
    "\tmatrix = confusion_matrix(y_test, pred)\n",
    "\n",
    "\tprint(f'혼동 행렬 : {matrix}')\n",
    "\tprint(f'정확도 : {accuracy}\\n재현율 : {recall}\\n정밀도 : {precision}\\nf1_score : {f1score}')"
   ]
  },
  {
   "cell_type": "code",
   "execution_count": 20,
   "metadata": {},
   "outputs": [
    {
     "name": "stdout",
     "output_type": "stream",
     "text": [
      "혼동 행렬 : [[252  14]\n",
      " [ 10 142]]\n",
      "정확도 : 0.9425837320574163\n",
      "재현율 : 0.9342105263157895\n",
      "정밀도 : 0.9102564102564102\n",
      "f1_score : 0.922077922077922\n"
     ]
    }
   ],
   "source": [
    "get_eval(test_y, pred)"
   ]
  },
  {
   "cell_type": "code",
   "execution_count": 22,
   "metadata": {},
   "outputs": [],
   "source": [
    "pred_proba = lr.predict_proba(test)"
   ]
  },
  {
   "cell_type": "code",
   "execution_count": 23,
   "metadata": {},
   "outputs": [],
   "source": [
    "pred = lr.predict(test)"
   ]
  },
  {
   "cell_type": "code",
   "execution_count": 25,
   "metadata": {},
   "outputs": [
    {
     "data": {
      "text/plain": [
       "array([[0.92140531, 0.07859469],\n",
       "       [0.59987979, 0.40012021],\n",
       "       [0.88759265, 0.11240735],\n",
       "       [0.90468156, 0.09531844],\n",
       "       [0.42576367, 0.57423633]])"
      ]
     },
     "execution_count": 25,
     "metadata": {},
     "output_type": "execute_result"
    }
   ],
   "source": [
    "pred_proba[:5]"
   ]
  },
  {
   "cell_type": "code",
   "execution_count": 26,
   "metadata": {},
   "outputs": [
    {
     "data": {
      "text/plain": [
       "array([0, 0, 0, 0, 1])"
      ]
     },
     "execution_count": 26,
     "metadata": {},
     "output_type": "execute_result"
    }
   ],
   "source": [
    "pred[:5]"
   ]
  },
  {
   "cell_type": "markdown",
   "metadata": {},
   "source": [
    "#### sklearn.metrics.precision_recall_curve\n",
    "> sklearn.metrics.precision_recall_curve(y_true, probas_pred, *, pos_label=None, sample_weight=None, drop_intermediate=False)"
   ]
  },
  {
   "cell_type": "code",
   "execution_count": 28,
   "metadata": {},
   "outputs": [
    {
     "data": {
      "text/plain": [
       "array([0.07859469, 0.40012021, 0.11240735, 0.09531844, 0.57423633,\n",
       "       0.13190527, 0.5184511 , 0.258755  , 0.60152323, 0.11092072,\n",
       "       0.08766123, 0.39031199, 0.93153317, 0.10962781, 0.87374957,\n",
       "       0.80417134, 0.21316818, 0.11092072, 0.53950063, 0.41371357,\n",
       "       0.33192653, 0.14888252, 0.91725721, 0.56417407, 0.87060983,\n",
       "       0.05224505, 0.93330781, 0.10682239, 0.42429246, 0.08766123,\n",
       "       0.15079163, 0.26970498, 0.49733588, 0.51653409, 0.50115909,\n",
       "       0.11805713, 0.51653409, 0.5811075 , 0.10028788, 0.08766123,\n",
       "       0.06989277, 0.49923973, 0.06631845, 0.77618711, 0.87983367,\n",
       "       0.10028788, 0.39703466, 0.08766123, 0.82755304, 0.47623016,\n",
       "       0.54329763, 0.25338977, 0.82130757, 0.92198718, 0.23635171,\n",
       "       0.14534875, 0.0775809 , 0.10028788, 0.08766123, 0.90416115,\n",
       "       0.12252737, 0.22768339, 0.1195313 , 0.57423633, 0.61855952,\n",
       "       0.77485055, 0.60152323, 0.38363073, 0.49411816, 0.82755304,\n",
       "       0.56041019, 0.11092072, 0.52547861, 0.51171876, 0.90657411,\n",
       "       0.483562  , 0.08766123, 0.84673348, 0.23774021, 0.56041019,\n",
       "       0.15990996, 0.2616399 , 0.37040133, 0.08766123, 0.23635171,\n",
       "       0.08766123, 0.53950063, 0.60152323, 0.51653409, 0.4069729 ,\n",
       "       0.57423633, 0.08766123, 0.92398906, 0.08766123, 0.53630116,\n",
       "       0.10028788, 0.7535704 , 0.09057047, 0.58794736, 0.08170911,\n",
       "       0.88566294, 0.25338977, 0.08766123, 0.09777502, 0.61494476,\n",
       "       0.09291724, 0.11092072, 0.08766123, 0.08766123, 0.30127931,\n",
       "       0.18619563, 0.51653409, 0.90416115, 0.598143  , 0.81515927,\n",
       "       0.1195313 , 0.08766123, 0.70901772, 0.45900408, 0.78104184,\n",
       "       0.85202219, 0.08766123, 0.90657411, 0.09291724, 0.08766123,\n",
       "       0.60825446, 0.10817347, 0.51653409, 0.18196557, 0.10285796,\n",
       "       0.08384745, 0.34453374, 0.51653409, 0.08766123, 0.06291455,\n",
       "       0.10285796, 0.09653975, 0.258755  , 0.56733637, 0.06808387,\n",
       "       0.65410546, 0.91123707, 0.29557203, 0.24809855, 0.41742777,\n",
       "       0.0860365 , 0.49923973, 0.10817347, 0.49923973, 0.23774021,\n",
       "       0.93153317, 0.08766123, 0.03939662, 0.47623016, 0.13516389,\n",
       "       0.10285796, 0.91993715, 0.56733637, 0.41742777, 0.54648965,\n",
       "       0.51653409, 0.15616248, 0.79514834, 0.08766123, 0.18619563,\n",
       "       0.54648965, 0.37699312, 0.1195313 , 0.91725721, 0.57423633,\n",
       "       0.08766123, 0.09531844, 0.10548619, 0.08766123, 0.06808387,\n",
       "       0.84104924, 0.82130757, 0.33820141, 0.74546963, 0.81087782,\n",
       "       0.23774021, 0.45201874, 0.9399871 , 0.08766123, 0.92398906,\n",
       "       0.19050113, 0.81713658, 0.12252737, 0.51653409, 0.19050113,\n",
       "       0.21793036, 0.49923973, 0.14017892, 0.11524823, 0.36691313,\n",
       "       0.08170911, 0.66387091, 0.60152323, 0.27528829, 0.51653409,\n",
       "       0.51653409, 0.18254434, 0.38363073, 0.86567061, 0.26419363,\n",
       "       0.49923973, 0.4832597 , 0.26970498, 0.91123707, 0.10028788,\n",
       "       0.08384745, 0.08766123, 0.31024674, 0.59836042, 0.46220207,\n",
       "       0.41742777, 0.51653409, 0.31955575, 0.86413084, 0.08766123,\n",
       "       0.77618711, 0.11092072, 0.81289042, 0.11092072, 0.85390181,\n",
       "       0.51653409, 0.10548619, 0.51653409, 0.06719578, 0.20848233,\n",
       "       0.32861155, 0.93503966, 0.11092072, 0.08766123, 0.43810728,\n",
       "       0.11372885, 0.27828832, 0.11372885, 0.82942551, 0.87060983,\n",
       "       0.84673348, 0.69447206, 0.39703466, 0.08766123, 0.08766123,\n",
       "       0.42429246, 0.81289042, 0.18196557, 0.78104184, 0.51653409,\n",
       "       0.88721626, 0.11372885, 0.52226798, 0.10285796, 0.082772  ,\n",
       "       0.08766123, 0.08766123, 0.09291724, 0.82540374, 0.11092072,\n",
       "       0.07461104, 0.11092072, 0.78104184, 0.70901772, 0.23774021,\n",
       "       0.08766123, 0.49923973, 0.08766123, 0.51653409, 0.12252737,\n",
       "       0.39031199, 0.08766123, 0.9259437 , 0.51653409, 0.08766123,\n",
       "       0.82130757, 0.24809855, 0.19050113, 0.23774021, 0.28094272,\n",
       "       0.56733637, 0.18078579, 0.51653409, 0.66044984, 0.70317297,\n",
       "       0.0755892 , 0.08766123, 0.54329763, 0.08766123, 0.08766123,\n",
       "       0.49923973, 0.5184511 , 0.08766123, 0.34453374, 0.0755892 ,\n",
       "       0.09777502, 0.88699061, 0.08766123, 0.50115909, 0.09057047,\n",
       "       0.08384745, 0.23635171, 0.17781061, 0.10285796, 0.51653409,\n",
       "       0.81087782, 0.50115909, 0.18045233, 0.33192653, 0.41371357,\n",
       "       0.1195313 , 0.10817347, 0.08766123, 0.46921003, 0.84673348,\n",
       "       0.60825446, 0.31955575, 0.29832314, 0.09531844, 0.28094272,\n",
       "       0.09777502, 0.10028788, 0.258755  , 0.48004607, 0.89658518,\n",
       "       0.10548619, 0.85202219, 0.39031199, 0.24288188, 0.28666735,\n",
       "       0.67625547, 0.43810728, 0.08766123, 0.59475341, 0.09531844,\n",
       "       0.50115909, 0.22768339, 0.06989277, 0.26419363, 0.08766123,\n",
       "       0.30425207, 0.08384745, 0.08766123, 0.8354441 , 0.08766123,\n",
       "       0.61494476, 0.258755  , 0.46220207, 0.26970498, 0.77125627,\n",
       "       0.87983367, 0.26419363, 0.30425207, 0.15443382, 0.71381696,\n",
       "       0.36385749, 0.83153541, 0.08766123, 0.08766123, 0.5184511 ,\n",
       "       0.13030109, 0.80417134, 0.77125627, 0.09531844, 0.927852  ,\n",
       "       0.51653409, 0.08766123, 0.57423633, 0.87983367, 0.24288188,\n",
       "       0.28666735, 0.91568894, 0.37040133, 0.17373038, 0.85035301,\n",
       "       0.87983367, 0.57423633, 0.28666735, 0.33192653, 0.16372993,\n",
       "       0.08766123, 0.09777502, 0.51653409, 0.59475341, 0.23635171,\n",
       "       0.80417134, 0.10285796, 0.1272429 , 0.11092072, 0.15990996,\n",
       "       0.55027707, 0.86079   , 0.13516389, 0.16193358, 0.09057047,\n",
       "       0.9399871 , 0.10285796, 0.87060983, 0.10817347, 0.0860365 ,\n",
       "       0.91783804, 0.19933951, 0.93330781, 0.59164726, 0.41059494,\n",
       "       0.29246118, 0.27528829, 0.36385749, 0.51653409, 0.69726094,\n",
       "       0.51653409, 0.90169263, 0.53249603, 0.08766123, 0.89658518,\n",
       "       0.0708138 , 0.08766123, 0.08766123])"
      ]
     },
     "execution_count": 28,
     "metadata": {},
     "output_type": "execute_result"
    }
   ],
   "source": [
    "pred_proba[:, 1]"
   ]
  },
  {
   "cell_type": "code",
   "execution_count": 32,
   "metadata": {},
   "outputs": [],
   "source": [
    "from sklearn.metrics import precision_recall_curve\n",
    "\n",
    "precisions, recalls, thresholds = precision_recall_curve(test_y, pred_proba[:, 1])"
   ]
  },
  {
   "cell_type": "code",
   "execution_count": 33,
   "metadata": {},
   "outputs": [
    {
     "data": {
      "text/plain": [
       "array([0.36363636, 0.36450839, 0.36538462, 0.36626506, 0.36714976,\n",
       "       0.36803874, 0.36982968, 0.37163814, 0.37254902, 0.37346437,\n",
       "       0.37530864, 0.37623762, 0.37717122, 0.37905237, 0.38      ,\n",
       "       0.38383838, 0.3857868 , 0.44186047, 0.4457478 , 0.44970414,\n",
       "       0.45645646, 0.45783133, 0.46341463, 0.47204969, 0.48253968,\n",
       "       0.48717949, 0.48874598, 0.49511401, 0.49673203, 0.51351351,\n",
       "       0.51525424, 0.52054795, 0.52233677, 0.52413793, 0.53146853,\n",
       "       0.53710247, 0.53900709, 0.54092527, 0.54285714, 0.54676259,\n",
       "       0.54873646, 0.55072464, 0.55272727, 0.55474453, 0.55677656,\n",
       "       0.55882353, 0.56296296, 0.56505576, 0.56716418, 0.56928839,\n",
       "       0.57142857, 0.57358491, 0.57575758, 0.58015267, 0.58237548,\n",
       "       0.58687259, 0.59375   , 0.59607843, 0.5984252 , 0.60079051,\n",
       "       0.6031746 , 0.608     , 0.61788618, 0.63070539, 0.63598326,\n",
       "       0.64135021, 0.64680851, 0.65800866, 0.66086957, 0.66960352,\n",
       "       0.67857143, 0.68468468, 0.68778281, 0.69406393, 0.7037037 ,\n",
       "       0.70697674, 0.71028037, 0.71361502, 0.71698113, 0.72380952,\n",
       "       0.72727273, 0.73429952, 0.73786408, 0.74876847, 0.75247525,\n",
       "       0.76      , 0.76767677, 0.7715736 , 0.77948718, 0.78350515,\n",
       "       0.79166667, 0.8042328 , 0.81283422, 0.81182796, 0.81621622,\n",
       "       0.82065217, 0.81868132, 0.83240223, 0.84180791, 0.85142857,\n",
       "       0.85632184, 0.86127168, 0.85964912, 0.85882353, 0.85714286,\n",
       "       0.86227545, 0.86144578, 0.86666667, 0.87195122, 0.87116564,\n",
       "       0.91025641, 0.93421053, 0.94039735, 0.93023256, 0.92857143,\n",
       "       0.936     , 0.93548387, 0.93495935, 0.94262295, 0.94166667,\n",
       "       0.95762712, 0.95689655, 0.96521739, 0.96460177, 0.97321429,\n",
       "       0.97247706, 0.97087379, 0.97058824, 0.97029703, 0.98      ,\n",
       "       0.97959184, 0.97938144, 0.97916667, 0.97826087, 0.97777778,\n",
       "       0.97727273, 0.98850575, 0.98837209, 0.98823529, 1.        ,\n",
       "       1.        , 1.        , 1.        , 1.        , 1.        ,\n",
       "       1.        , 1.        , 1.        , 1.        , 1.        ,\n",
       "       1.        , 1.        , 1.        , 1.        , 1.        ,\n",
       "       1.        , 1.        , 1.        , 1.        , 1.        ,\n",
       "       1.        , 1.        , 1.        , 1.        , 1.        ,\n",
       "       1.        , 1.        , 1.        , 1.        , 1.        ,\n",
       "       1.        , 1.        , 1.        , 1.        , 1.        ,\n",
       "       1.        , 1.        , 1.        , 1.        , 1.        ,\n",
       "       1.        , 1.        , 1.        , 1.        , 1.        ,\n",
       "       1.        , 1.        , 1.        , 1.        , 1.        ,\n",
       "       1.        , 1.        , 1.        , 1.        , 1.        ])"
      ]
     },
     "execution_count": 33,
     "metadata": {},
     "output_type": "execute_result"
    }
   ],
   "source": [
    "precisions"
   ]
  },
  {
   "cell_type": "code",
   "execution_count": 31,
   "metadata": {},
   "outputs": [],
   "source": [
    "import matplotlib.pyplot as plt"
   ]
  },
  {
   "cell_type": "code",
   "execution_count": 38,
   "metadata": {},
   "outputs": [
    {
     "data": {
      "image/png": "[encoded data removed]",
      "text/plain": [
       "<Figure size 432x288 with 1 Axes>"
      ]
     },
     "metadata": {
      "needs_background": "light"
     },
     "output_type": "display_data"
    }
   ],
   "source": [
    "plt.title(\"Precision-Recall Graph\")\n",
    "plt.xlabel(\"Threshold\"   )\n",
    "plt.ylabel(\"Recall & Precision\")\n",
    "plt.plot(thresholds, precisions[:194], \"b\", label = \"precision\")\n",
    "plt.plot(thresholds, recalls[:194], \"r\", label = \"recall\")\n",
    "plt.legend(loc = \"upper right\")\n",
    "plt.show()"
   ]
  },
  {
   "cell_type": "code",
   "execution_count": null,
   "metadata": {},
   "outputs": [],
   "source": []
  }
 ],
 "metadata": {
  "kernelspec": {
   "display_name": "Python 3",
   "language": "python",
   "name": "python3"
  },
  "language_info": {
   "codemirror_mode": {
    "name": "ipython",
    "version": 3
   },
   "file_extension": ".py",
   "mimetype": "text/x-python",
   "name": "python",
   "nbconvert_exporter": "python",
   "pygments_lexer": "ipython3",
   "version": "3.10.1"
  },
  "orig_nbformat": 4
 },
 "nbformat": 4,
 "nbformat_minor": 2
}
