{
 "cells": [
  {
   "cell_type": "markdown",
   "metadata": {},
   "source": [
    "### sklearn.ensemble.RandomForestClassifier\n",
    "> class sklearn.ensemble.RandomForestClassifier(n_estimators=100, *, criterion='gini', max_depth=None, min_samples_split=2, min_samples_leaf=1, min_weight_fraction_leaf=0.0, max_features='sqrt', max_leaf_nodes=None, min_impurity_decrease=0.0, bootstrap=True, oob_score=False, n_jobs=None, random_state=None, verbose=0, warm_start=False, class_weight=None, ccp_alpha=0.0, max_samples=None)"
   ]
  },
  {
   "cell_type": "code",
   "execution_count": 3,
   "metadata": {},
   "outputs": [],
   "source": [
    "import pandas as pd\n",
    "import numpy as np\n",
    "\n",
    "test_df = pd.read_csv('./datasets/human_test.csv')\n",
    "train_df = pd.read_csv('./datasets/human_train.csv')"
   ]
  },
  {
   "cell_type": "code",
   "execution_count": 4,
   "metadata": {},
   "outputs": [],
   "source": [
    "from sklearn.preprocessing import LabelEncoder\n",
    "\n",
    "encoder = LabelEncoder()\n",
    "train_df['Labels'] = encoder.fit_transform(train_df['Activity'])"
   ]
  },
  {
   "cell_type": "code",
   "execution_count": 5,
   "metadata": {},
   "outputs": [],
   "source": [
    "import numpy as np\n",
    "\n",
    "X_train = train_df.drop(['Activity', 'Labels','subject'], axis=1)\n",
    "y_train = train_df['Labels']\n",
    "\n",
    "X_test = test_df.drop(['Activity', 'subject'] , axis=1)\n",
    "y_test = LabelEncoder().fit_transform(test_df[\"Activity\"])"
   ]
  },
  {
   "cell_type": "code",
   "execution_count": 6,
   "metadata": {},
   "outputs": [
    {
     "data": {
      "text/html": [
       "<style>#sk-container-id-1 {color: black;background-color: white;}#sk-container-id-1 pre{padding: 0;}#sk-container-id-1 div.sk-toggleable {background-color: white;}#sk-container-id-1 label.sk-toggleable__label {cursor: pointer;display: block;width: 100%;margin-bottom: 0;padding: 0.3em;box-sizing: border-box;text-align: center;}#sk-container-id-1 label.sk-toggleable__label-arrow:before {content: \"▸\";float: left;margin-right: 0.25em;color: #696969;}#sk-container-id-1 label.sk-toggleable__label-arrow:hover:before {color: black;}#sk-container-id-1 div.sk-estimator:hover label.sk-toggleable__label-arrow:before {color: black;}#sk-container-id-1 div.sk-toggleable__content {max-height: 0;max-width: 0;overflow: hidden;text-align: left;background-color: #f0f8ff;}#sk-container-id-1 div.sk-toggleable__content pre {margin: 0.2em;color: black;border-radius: 0.25em;background-color: #f0f8ff;}#sk-container-id-1 input.sk-toggleable__control:checked~div.sk-toggleable__content {max-height: 200px;max-width: 100%;overflow: auto;}#sk-container-id-1 input.sk-toggleable__control:checked~label.sk-toggleable__label-arrow:before {content: \"▾\";}#sk-container-id-1 div.sk-estimator input.sk-toggleable__control:checked~label.sk-toggleable__label {background-color: #d4ebff;}#sk-container-id-1 div.sk-label input.sk-toggleable__control:checked~label.sk-toggleable__label {background-color: #d4ebff;}#sk-container-id-1 input.sk-hidden--visually {border: 0;clip: rect(1px 1px 1px 1px);clip: rect(1px, 1px, 1px, 1px);height: 1px;margin: -1px;overflow: hidden;padding: 0;position: absolute;width: 1px;}#sk-container-id-1 div.sk-estimator {font-family: monospace;background-color: #f0f8ff;border: 1px dotted black;border-radius: 0.25em;box-sizing: border-box;margin-bottom: 0.5em;}#sk-container-id-1 div.sk-estimator:hover {background-color: #d4ebff;}#sk-container-id-1 div.sk-parallel-item::after {content: \"\";width: 100%;border-bottom: 1px solid gray;flex-grow: 1;}#sk-container-id-1 div.sk-label:hover label.sk-toggleable__label {background-color: #d4ebff;}#sk-container-id-1 div.sk-serial::before {content: \"\";position: absolute;border-left: 1px solid gray;box-sizing: border-box;top: 0;bottom: 0;left: 50%;z-index: 0;}#sk-container-id-1 div.sk-serial {display: flex;flex-direction: column;align-items: center;background-color: white;padding-right: 0.2em;padding-left: 0.2em;position: relative;}#sk-container-id-1 div.sk-item {position: relative;z-index: 1;}#sk-container-id-1 div.sk-parallel {display: flex;align-items: stretch;justify-content: center;background-color: white;position: relative;}#sk-container-id-1 div.sk-item::before, #sk-container-id-1 div.sk-parallel-item::before {content: \"\";position: absolute;border-left: 1px solid gray;box-sizing: border-box;top: 0;bottom: 0;left: 50%;z-index: -1;}#sk-container-id-1 div.sk-parallel-item {display: flex;flex-direction: column;z-index: 1;position: relative;background-color: white;}#sk-container-id-1 div.sk-parallel-item:first-child::after {align-self: flex-end;width: 50%;}#sk-container-id-1 div.sk-parallel-item:last-child::after {align-self: flex-start;width: 50%;}#sk-container-id-1 div.sk-parallel-item:only-child::after {width: 0;}#sk-container-id-1 div.sk-dashed-wrapped {border: 1px dashed gray;margin: 0 0.4em 0.5em 0.4em;box-sizing: border-box;padding-bottom: 0.4em;background-color: white;}#sk-container-id-1 div.sk-label label {font-family: monospace;font-weight: bold;display: inline-block;line-height: 1.2em;}#sk-container-id-1 div.sk-label-container {text-align: center;}#sk-container-id-1 div.sk-container {/* jupyter's `normalize.less` sets `[hidden] { display: none; }` but bootstrap.min.css set `[hidden] { display: none !important; }` so we also need the `!important` here to be able to override the default hidden behavior on the sphinx rendered scikit-learn.org. See: https://github.com/scikit-learn/scikit-learn/issues/21755 */display: inline-block !important;position: relative;}#sk-container-id-1 div.sk-text-repr-fallback {display: none;}</style><div id=\"sk-container-id-1\" class=\"sk-top-container\"><div class=\"sk-text-repr-fallback\"><pre>RandomForestClassifier(random_state=42)</pre><b>In a Jupyter environment, please rerun this cell to show the HTML representation or trust the notebook. <br />On GitHub, the HTML representation is unable to render, please try loading this page with nbviewer.org.</b></div><div class=\"sk-container\" hidden><div class=\"sk-item\"><div class=\"sk-estimator sk-toggleable\"><input class=\"sk-toggleable__control sk-hidden--visually\" id=\"sk-estimator-id-1\" type=\"checkbox\" checked><label for=\"sk-estimator-id-1\" class=\"sk-toggleable__label sk-toggleable__label-arrow\">RandomForestClassifier</label><div class=\"sk-toggleable__content\"><pre>RandomForestClassifier(random_state=42)</pre></div></div></div></div></div>"
      ],
      "text/plain": [
       "RandomForestClassifier(random_state=42)"
      ]
     },
     "execution_count": 6,
     "metadata": {},
     "output_type": "execute_result"
    }
   ],
   "source": [
    "from sklearn.ensemble import RandomForestClassifier\n",
    "\n",
    "rfc = RandomForestClassifier(random_state=42)\n",
    "rfc.fit(X_train, y_train)"
   ]
  },
  {
   "cell_type": "code",
   "execution_count": 7,
   "metadata": {},
   "outputs": [
    {
     "data": {
      "text/plain": [
       "array([2.70394335e-04, 2.70805320e-04, 1.48880292e-04, 3.15640905e-03,\n",
       "       3.11514168e-04, 4.70211285e-04, 2.14210774e-03, 3.82743291e-04,\n",
       "       4.60788524e-04, 8.05832499e-03, 2.55507080e-04, 2.61174628e-04,\n",
       "       5.43220486e-04, 3.19937004e-04, 2.35542384e-04, 9.04252361e-04,\n",
       "       7.80354797e-03, 7.12774050e-04, 3.93302579e-04, 1.31943046e-03,\n",
       "       5.19913298e-04, 1.93945282e-04, 1.84352134e-03, 2.70429105e-04,\n",
       "       3.90608935e-04, 1.79773976e-04, 1.74846407e-04, 1.85086400e-04,\n",
       "       2.78937939e-04, 3.46530927e-04, 1.07407312e-04, 1.59768196e-04,\n",
       "       2.12323752e-04, 3.13099875e-04, 2.09682737e-04, 2.28962667e-04,\n",
       "       2.17362268e-04, 7.12541426e-03, 8.93584162e-04, 2.80579850e-03,\n",
       "       3.63801995e-02, 2.53549070e-02, 9.62279034e-03, 2.19704601e-03,\n",
       "       6.90344919e-04, 5.87176917e-04, 1.15357623e-03, 7.21587316e-04,\n",
       "       2.01611127e-04, 3.03312875e-02, 2.17046259e-02, 6.40324266e-03,\n",
       "       2.26496677e-02, 2.16353075e-02, 9.63932157e-03, 3.02754275e-03,\n",
       "       2.49629963e-02, 1.71791420e-02, 9.12500735e-03, 9.82946523e-04,\n",
       "       6.28662972e-04, 3.49155982e-04, 2.66139970e-03, 7.09945129e-03,\n",
       "       7.82420431e-04, 7.84751779e-03, 5.03198728e-03, 3.63396298e-03,\n",
       "       1.50196407e-03, 7.76703406e-03, 5.45820108e-03, 5.60577892e-03,\n",
       "       2.90896926e-03, 8.05357284e-03, 9.91957120e-03, 7.95676235e-03,\n",
       "       6.16830167e-03, 2.84272720e-03, 7.76735942e-04, 9.91062400e-04,\n",
       "       1.05211300e-04, 1.22446842e-04, 1.09352579e-04, 1.24398010e-02,\n",
       "       5.27038102e-04, 5.38312271e-04, 4.72335319e-04, 6.46545177e-03,\n",
       "       2.26205143e-03, 3.95415097e-03, 2.37571643e-04, 5.14745452e-04,\n",
       "       3.11263709e-04, 3.67034962e-04, 3.06575317e-04, 8.18789225e-03,\n",
       "       4.82059768e-03, 4.72870386e-04, 4.95044900e-04, 4.27286861e-03,\n",
       "       4.19994014e-03, 3.78068159e-04, 2.53914662e-03, 2.25546812e-03,\n",
       "       6.73669718e-04, 1.73147937e-04, 1.14522485e-04, 2.04689593e-04,\n",
       "       1.52629238e-04, 1.67796834e-04, 1.89270495e-04, 2.08214703e-04,\n",
       "       2.43815213e-04, 2.73347618e-04, 1.85700078e-04, 2.09156396e-04,\n",
       "       2.81761094e-04, 1.05733667e-03, 2.40637668e-04, 4.12494063e-04,\n",
       "       7.05083124e-04, 3.39676193e-04, 3.55595149e-04, 1.96136815e-03,\n",
       "       9.24739628e-04, 7.87358410e-04, 2.62185954e-03, 5.19772469e-04,\n",
       "       9.43219595e-04, 2.86717105e-03, 3.01202563e-04, 3.15218164e-04,\n",
       "       1.88277648e-03, 2.04359998e-04, 6.99817341e-04, 3.49027563e-04,\n",
       "       2.36599983e-03, 5.70496695e-04, 6.88167795e-04, 2.34723248e-03,\n",
       "       2.43343536e-03, 7.59987105e-04, 3.08066179e-03, 3.47128797e-04,\n",
       "       3.55944383e-04, 8.96643286e-04, 1.66869541e-04, 1.23272141e-04,\n",
       "       2.96912567e-04, 6.00197936e-04, 3.72682524e-04, 1.36736641e-04,\n",
       "       2.93545885e-04, 4.28496348e-04, 1.80481117e-04, 1.83955478e-04,\n",
       "       4.51802907e-04, 9.94795795e-04, 8.00020034e-04, 1.80083360e-03,\n",
       "       2.97061043e-04, 8.56803543e-05, 3.33781764e-04, 2.32938476e-03,\n",
       "       2.76704962e-04, 6.96791742e-04, 1.65378625e-03, 2.98169126e-04,\n",
       "       6.29649724e-03, 6.19247459e-04, 1.50867671e-04, 3.23198284e-04,\n",
       "       6.73100730e-04, 3.35838791e-04, 1.91795194e-04, 6.36441581e-03,\n",
       "       2.45891397e-03, 2.75698174e-04, 3.05458031e-04, 6.74994724e-03,\n",
       "       2.65396886e-04, 8.22996735e-03, 8.94240171e-04, 2.40864733e-04,\n",
       "       6.98132238e-04, 8.90492184e-04, 3.37091569e-04, 8.40015186e-04,\n",
       "       3.29099584e-04, 3.97185637e-04, 1.63894891e-04, 1.56515884e-04,\n",
       "       3.41077008e-04, 1.97692954e-04, 2.23399835e-04, 2.22729282e-04,\n",
       "       3.72004582e-04, 7.92035053e-04, 5.42469579e-04, 4.09212184e-04,\n",
       "       9.37782999e-04, 7.23355009e-03, 3.69001380e-03, 2.74065312e-03,\n",
       "       1.40436514e-04, 1.07768048e-03, 2.85845002e-03, 6.89692269e-04,\n",
       "       2.42115479e-04, 2.40390562e-03, 2.89016604e-03, 2.03007687e-04,\n",
       "       1.24118242e-04, 5.88150612e-04, 1.34817646e-02, 3.26424253e-03,\n",
       "       1.77731007e-03, 8.86294126e-05, 9.49646111e-04, 5.05017546e-04,\n",
       "       2.88375200e-04, 1.15068393e-04, 6.90146191e-03, 2.44590551e-03,\n",
       "       1.78816690e-04, 1.40967725e-04, 2.45107251e-03, 2.53123305e-04,\n",
       "       1.47633636e-03, 1.51809947e-04, 1.41997553e-04, 4.35070079e-03,\n",
       "       8.40235029e-03, 8.57538377e-04, 2.28607073e-03, 1.93453034e-04,\n",
       "       2.17488334e-04, 1.24233012e-04, 2.02606321e-04, 3.44438526e-04,\n",
       "       2.80630717e-04, 1.67909151e-04, 3.08434186e-04, 1.95789179e-04,\n",
       "       3.75955534e-04, 4.13690947e-04, 3.53204515e-04, 5.17591130e-04,\n",
       "       3.30197398e-04, 2.74756309e-04, 2.37525035e-04, 1.99911433e-04,\n",
       "       4.41099506e-03, 2.60923501e-04, 2.36284321e-04, 2.52688080e-04,\n",
       "       1.44643512e-04, 3.56610265e-04, 3.97497925e-04, 2.24558641e-04,\n",
       "       2.09636395e-04, 2.23643482e-04, 1.79520534e-04, 1.51717228e-04,\n",
       "       1.40905521e-04, 1.19008825e-02, 1.91326634e-04, 2.66936468e-04,\n",
       "       3.94080115e-03, 4.88322558e-04, 3.93570754e-04, 1.01417064e-02,\n",
       "       2.67689251e-04, 4.31806705e-04, 1.41940516e-03, 1.21534116e-03,\n",
       "       3.69367918e-04, 1.44101946e-04, 1.17230842e-04, 1.40641573e-04,\n",
       "       2.00284981e-04, 4.14272986e-03, 2.44378142e-04, 2.49005896e-04,\n",
       "       2.25757911e-03, 1.22815881e-04, 2.21302763e-04, 8.41982163e-03,\n",
       "       2.62507598e-04, 2.04804419e-04, 4.48373104e-04, 2.68580086e-04,\n",
       "       1.25574573e-04, 3.88096637e-04, 8.47493621e-04, 3.01547260e-03,\n",
       "       9.64668141e-04, 1.75448993e-03, 5.38877972e-04, 6.26636377e-04,\n",
       "       5.11320995e-04, 3.79543253e-04, 2.88237131e-03, 2.96265765e-03,\n",
       "       2.36728709e-04, 1.71452960e-04, 1.58297832e-04, 1.98549513e-04,\n",
       "       1.27571056e-04, 1.42120512e-04, 3.50484055e-03, 1.84208711e-04,\n",
       "       1.62903545e-04, 1.52083508e-04, 7.61792336e-03, 1.02217075e-04,\n",
       "       1.57710146e-03, 3.35440730e-04, 6.73830438e-04, 1.07078794e-04,\n",
       "       1.19969103e-04, 1.55072958e-04, 1.30381041e-04, 9.83842150e-05,\n",
       "       3.82056895e-04, 1.92150444e-04, 1.71386734e-04, 1.01509496e-04,\n",
       "       3.66112350e-04, 2.78237406e-04, 8.38706133e-04, 1.29583806e-04,\n",
       "       1.37950969e-03, 2.57149028e-04, 1.41289163e-04, 2.26337613e-04,\n",
       "       1.42860790e-04, 1.94457235e-04, 4.66987218e-04, 9.46315303e-04,\n",
       "       1.85099102e-04, 1.57185484e-04, 5.95095473e-04, 3.59290930e-04,\n",
       "       6.38059085e-03, 4.23498011e-03, 4.72353611e-04, 6.66469118e-03,\n",
       "       1.42623869e-03, 4.13237964e-04, 4.57285056e-03, 2.10782180e-04,\n",
       "       3.67246330e-04, 1.01589686e-02, 5.10329739e-03, 2.64157778e-04,\n",
       "       8.54262314e-05, 1.51357818e-04, 1.11230413e-04, 2.45556688e-03,\n",
       "       8.74151808e-03, 6.86937089e-04, 8.68643542e-04, 2.83350249e-04,\n",
       "       1.20145925e-04, 3.23678094e-04, 8.98911590e-05, 2.09887650e-03,\n",
       "       2.41704682e-04, 1.28286056e-03, 2.95118558e-04, 1.91786152e-03,\n",
       "       1.90542818e-04, 3.29637096e-04, 4.49819856e-04, 1.70444118e-04,\n",
       "       1.44816494e-04, 2.18826699e-04, 2.24585978e-04, 1.86586226e-04,\n",
       "       2.02910020e-04, 5.76292860e-03, 4.42936871e-03, 1.14028074e-04,\n",
       "       2.51278703e-04, 1.15147903e-04, 1.43601143e-04, 1.45715831e-04,\n",
       "       1.20070848e-04, 1.13505827e-02, 2.62342555e-04, 1.67940517e-04,\n",
       "       1.41605675e-04, 8.51526225e-03, 2.67515406e-04, 3.40256963e-04,\n",
       "       3.17466665e-04, 6.72756401e-04, 9.38831752e-05, 2.26231077e-04,\n",
       "       2.67602074e-04, 1.62395768e-04, 1.60676939e-04, 1.01222022e-02,\n",
       "       5.27206411e-04, 9.49577456e-05, 9.48616255e-05, 8.74790534e-04,\n",
       "       2.79623269e-04, 6.28497109e-04, 6.25759521e-04, 8.78054365e-04,\n",
       "       4.24691491e-04, 1.89655515e-04, 2.48166710e-04, 1.72022519e-04,\n",
       "       1.52477864e-04, 5.67686959e-04, 5.42629863e-04, 1.92435605e-04,\n",
       "       1.43791516e-04, 4.10955261e-04, 3.15216029e-04, 2.90697426e-03,\n",
       "       6.27098484e-04, 4.68230993e-04, 3.08545085e-03, 5.81740866e-04,\n",
       "       9.71820754e-04, 3.04292392e-03, 4.48656854e-04, 3.69646599e-04,\n",
       "       2.69544365e-03, 8.00092973e-04, 1.16266753e-03, 3.27770519e-04,\n",
       "       1.27720639e-04, 2.21290045e-04, 1.84968800e-04, 2.50414690e-03,\n",
       "       8.05627747e-04, 5.45124665e-04, 2.94355772e-04, 2.99692816e-04,\n",
       "       1.63657123e-04, 1.77108783e-03, 6.10555428e-04, 6.41838228e-04,\n",
       "       2.81822005e-03, 5.71725724e-04, 6.01530949e-03, 3.07413433e-03,\n",
       "       2.43745188e-04, 2.82974755e-04, 4.97254134e-04, 3.90664177e-04,\n",
       "       7.49960193e-04, 6.85509448e-04, 7.36790261e-04, 7.23606718e-04,\n",
       "       3.15027352e-03, 1.15997200e-03, 2.40585631e-04, 2.57479336e-04,\n",
       "       6.31037880e-04, 5.42100591e-04, 2.35674189e-04, 1.31379475e-04,\n",
       "       2.55544416e-03, 3.87409369e-04, 2.37377512e-04, 2.06515047e-04,\n",
       "       1.96961160e-03, 3.63831710e-04, 7.11831271e-04, 1.34556113e-04,\n",
       "       6.50202264e-04, 2.48675206e-04, 3.30282673e-04, 1.55615908e-04,\n",
       "       1.08631845e-04, 9.90771423e-05, 4.25606516e-04, 7.16837779e-04,\n",
       "       2.07208503e-04, 1.38367782e-04, 6.27601860e-04, 3.54934348e-04,\n",
       "       4.69719786e-04, 2.71752810e-04, 4.65936327e-04, 4.75425764e-04,\n",
       "       1.19756662e-04, 3.05329692e-04, 3.53306975e-04, 2.59432825e-04,\n",
       "       5.60618613e-04, 4.03382247e-04, 3.14333970e-04, 3.94424450e-04,\n",
       "       1.08424969e-03, 3.26504889e-04, 3.67386662e-03, 5.01246459e-03,\n",
       "       8.47330214e-03, 1.66086225e-03, 1.44438627e-04, 4.29469401e-03,\n",
       "       9.73448159e-03, 1.32156947e-03, 3.18282920e-03, 2.24223919e-04,\n",
       "       1.37129762e-03, 2.21290233e-04, 2.67676492e-04, 2.33524685e-03,\n",
       "       2.18674474e-03, 2.46210765e-04, 8.58117848e-04, 9.79364049e-05,\n",
       "       5.00200557e-04, 4.27179250e-04, 1.69617330e-04, 1.00216886e-04,\n",
       "       2.92013398e-04, 1.51984134e-04, 4.47520595e-04, 5.56272154e-04,\n",
       "       2.12014976e-04, 1.93974543e-04, 2.74851964e-04, 2.23516745e-04,\n",
       "       2.07010923e-04, 2.50752371e-04, 2.45164958e-04, 1.73964285e-04,\n",
       "       2.99588064e-04, 4.55353995e-04, 1.51853442e-03, 2.94571500e-04,\n",
       "       1.96591315e-04, 2.41803884e-04, 3.06466226e-04, 2.37988826e-04,\n",
       "       3.52526534e-04, 1.34944174e-04, 1.89834102e-04, 4.94510223e-04,\n",
       "       1.22826012e-04, 1.90924530e-04, 2.80962509e-04, 1.77516781e-04,\n",
       "       4.90991346e-04, 2.67939764e-04, 1.59998233e-04, 9.62365678e-05,\n",
       "       4.28896771e-04, 2.50191742e-04, 2.96764743e-02, 2.44149478e-02,\n",
       "       1.24364016e-02])"
      ]
     },
     "execution_count": 7,
     "metadata": {},
     "output_type": "execute_result"
    }
   ],
   "source": [
    "rfc.feature_importances_"
   ]
  },
  {
   "cell_type": "code",
   "execution_count": 9,
   "metadata": {},
   "outputs": [
    {
     "data": {
      "text/plain": [
       "tBodyAcc-mean()-X                       0.000270\n",
       "tBodyAcc-mean()-Y                       0.000271\n",
       "tBodyAcc-mean()-Z                       0.000149\n",
       "tBodyAcc-std()-X                        0.003156\n",
       "tBodyAcc-std()-Y                        0.000312\n",
       "                                          ...   \n",
       "angle(tBodyGyroMean,gravityMean)        0.000429\n",
       "angle(tBodyGyroJerkMean,gravityMean)    0.000250\n",
       "angle(X,gravityMean)                    0.029676\n",
       "angle(Y,gravityMean)                    0.024415\n",
       "angle(Z,gravityMean)                    0.012436\n",
       "Length: 561, dtype: float64"
      ]
     },
     "execution_count": 9,
     "metadata": {},
     "output_type": "execute_result"
    }
   ],
   "source": [
    "rfc_importances = pd.Series(rfc.feature_importances_, index=X_train.columns)\n",
    "rfc_importances"
   ]
  },
  {
   "cell_type": "code",
   "execution_count": 12,
   "metadata": {},
   "outputs": [],
   "source": [
    "sorted_feature_importances = rfc_importances.sort_values(ascending=False)"
   ]
  },
  {
   "cell_type": "code",
   "execution_count": 23,
   "metadata": {},
   "outputs": [
    {
     "data": {
      "text/plain": [
       "tGravityAcc-mean()-X                 0.036380\n",
       "tGravityAcc-max()-X                  0.030331\n",
       "angle(X,gravityMean)                 0.029676\n",
       "tGravityAcc-mean()-Y                 0.025355\n",
       "tGravityAcc-energy()-X               0.024963\n",
       "angle(Y,gravityMean)                 0.024415\n",
       "tGravityAcc-min()-X                  0.022650\n",
       "tGravityAcc-max()-Y                  0.021705\n",
       "tGravityAcc-min()-Y                  0.021635\n",
       "tGravityAcc-energy()-Y               0.017179\n",
       "tGravityAccMag-std()                 0.013482\n",
       "tBodyAccJerk-std()-X                 0.012440\n",
       "angle(Z,gravityMean)                 0.012436\n",
       "fBodyAcc-mean()-X                    0.011901\n",
       "fBodyAccJerk-bandsEnergy()-1,16      0.011351\n",
       "fBodyAccJerk-max()-X                 0.010159\n",
       "fBodyAcc-mad()-X                     0.010142\n",
       "fBodyAccJerk-bandsEnergy()-1,16.1    0.010122\n",
       "tGravityAcc-arCoeff()-Z,2            0.009920\n",
       "fBodyAccMag-energy()                 0.009734\n",
       "dtype: float64"
      ]
     },
     "execution_count": 23,
     "metadata": {},
     "output_type": "execute_result"
    }
   ],
   "source": [
    "data = sorted_feature_importances[:20]\n",
    "data"
   ]
  },
  {
   "cell_type": "code",
   "execution_count": 37,
   "metadata": {},
   "outputs": [
    {
     "data": {
      "text/html": [
       "<div>\n",
       "<style scoped>\n",
       "    .dataframe tbody tr th:only-of-type {\n",
       "        vertical-align: middle;\n",
       "    }\n",
       "\n",
       "    .dataframe tbody tr th {\n",
       "        vertical-align: top;\n",
       "    }\n",
       "\n",
       "    .dataframe thead th {\n",
       "        text-align: right;\n",
       "    }\n",
       "</style>\n",
       "<table border=\"1\" class=\"dataframe\">\n",
       "  <thead>\n",
       "    <tr style=\"text-align: right;\">\n",
       "      <th></th>\n",
       "      <th>feature_importances</th>\n",
       "    </tr>\n",
       "  </thead>\n",
       "  <tbody>\n",
       "    <tr>\n",
       "      <th>tGravityAcc-mean()-X</th>\n",
       "      <td>0.036380</td>\n",
       "    </tr>\n",
       "    <tr>\n",
       "      <th>tGravityAcc-max()-X</th>\n",
       "      <td>0.030331</td>\n",
       "    </tr>\n",
       "    <tr>\n",
       "      <th>angle(X,gravityMean)</th>\n",
       "      <td>0.029676</td>\n",
       "    </tr>\n",
       "    <tr>\n",
       "      <th>tGravityAcc-mean()-Y</th>\n",
       "      <td>0.025355</td>\n",
       "    </tr>\n",
       "    <tr>\n",
       "      <th>tGravityAcc-energy()-X</th>\n",
       "      <td>0.024963</td>\n",
       "    </tr>\n",
       "    <tr>\n",
       "      <th>angle(Y,gravityMean)</th>\n",
       "      <td>0.024415</td>\n",
       "    </tr>\n",
       "    <tr>\n",
       "      <th>tGravityAcc-min()-X</th>\n",
       "      <td>0.022650</td>\n",
       "    </tr>\n",
       "    <tr>\n",
       "      <th>tGravityAcc-max()-Y</th>\n",
       "      <td>0.021705</td>\n",
       "    </tr>\n",
       "    <tr>\n",
       "      <th>tGravityAcc-min()-Y</th>\n",
       "      <td>0.021635</td>\n",
       "    </tr>\n",
       "    <tr>\n",
       "      <th>tGravityAcc-energy()-Y</th>\n",
       "      <td>0.017179</td>\n",
       "    </tr>\n",
       "    <tr>\n",
       "      <th>tGravityAccMag-std()</th>\n",
       "      <td>0.013482</td>\n",
       "    </tr>\n",
       "    <tr>\n",
       "      <th>tBodyAccJerk-std()-X</th>\n",
       "      <td>0.012440</td>\n",
       "    </tr>\n",
       "    <tr>\n",
       "      <th>angle(Z,gravityMean)</th>\n",
       "      <td>0.012436</td>\n",
       "    </tr>\n",
       "    <tr>\n",
       "      <th>fBodyAcc-mean()-X</th>\n",
       "      <td>0.011901</td>\n",
       "    </tr>\n",
       "    <tr>\n",
       "      <th>fBodyAccJerk-bandsEnergy()-1,16</th>\n",
       "      <td>0.011351</td>\n",
       "    </tr>\n",
       "    <tr>\n",
       "      <th>fBodyAccJerk-max()-X</th>\n",
       "      <td>0.010159</td>\n",
       "    </tr>\n",
       "    <tr>\n",
       "      <th>fBodyAcc-mad()-X</th>\n",
       "      <td>0.010142</td>\n",
       "    </tr>\n",
       "    <tr>\n",
       "      <th>fBodyAccJerk-bandsEnergy()-1,16.1</th>\n",
       "      <td>0.010122</td>\n",
       "    </tr>\n",
       "    <tr>\n",
       "      <th>tGravityAcc-arCoeff()-Z,2</th>\n",
       "      <td>0.009920</td>\n",
       "    </tr>\n",
       "    <tr>\n",
       "      <th>fBodyAccMag-energy()</th>\n",
       "      <td>0.009734</td>\n",
       "    </tr>\n",
       "  </tbody>\n",
       "</table>\n",
       "</div>"
      ],
      "text/plain": [
       "                                   feature_importances\n",
       "tGravityAcc-mean()-X                          0.036380\n",
       "tGravityAcc-max()-X                           0.030331\n",
       "angle(X,gravityMean)                          0.029676\n",
       "tGravityAcc-mean()-Y                          0.025355\n",
       "tGravityAcc-energy()-X                        0.024963\n",
       "angle(Y,gravityMean)                          0.024415\n",
       "tGravityAcc-min()-X                           0.022650\n",
       "tGravityAcc-max()-Y                           0.021705\n",
       "tGravityAcc-min()-Y                           0.021635\n",
       "tGravityAcc-energy()-Y                        0.017179\n",
       "tGravityAccMag-std()                          0.013482\n",
       "tBodyAccJerk-std()-X                          0.012440\n",
       "angle(Z,gravityMean)                          0.012436\n",
       "fBodyAcc-mean()-X                             0.011901\n",
       "fBodyAccJerk-bandsEnergy()-1,16               0.011351\n",
       "fBodyAccJerk-max()-X                          0.010159\n",
       "fBodyAcc-mad()-X                              0.010142\n",
       "fBodyAccJerk-bandsEnergy()-1,16.1             0.010122\n",
       "tGravityAcc-arCoeff()-Z,2                     0.009920\n",
       "fBodyAccMag-energy()                          0.009734"
      ]
     },
     "execution_count": 37,
     "metadata": {},
     "output_type": "execute_result"
    }
   ],
   "source": [
    "df = pd.DataFrame(data, columns=['feature_importances'])\n",
    "df"
   ]
  },
  {
   "cell_type": "code",
   "execution_count": 44,
   "metadata": {},
   "outputs": [
    {
     "data": {
      "text/plain": [
       "<AxesSubplot:xlabel='feature_importances'>"
      ]
     },
     "execution_count": 44,
     "metadata": {},
     "output_type": "execute_result"
    },
    {
     "data": {
      "image/png": "[encoded data removed]",
      "text/plain": [
       "<Figure size 432x288 with 1 Axes>"
      ]
     },
     "metadata": {},
     "output_type": "display_data"
    }
   ],
   "source": [
    "import seaborn as sns\n",
    "\n",
    "sns.set_theme(style=\"whitegrid\", palette=\"pastel\") ## figure, axes 스타일\n",
    "sns.barplot(x=df.feature_importances, y=df.index, data=df, orient='h')\n",
    "# sns.barplot(x='feature_importances', y=df.index, data=df, orient='h')"
   ]
  },
  {
   "cell_type": "code",
   "execution_count": 45,
   "metadata": {},
   "outputs": [
    {
     "name": "stdout",
     "output_type": "stream",
     "text": [
      "Fitting 5 folds for each of 8 candidates, totalling 40 fits\n"
     ]
    },
    {
     "data": {
      "text/html": [
       "<style>#sk-container-id-2 {color: black;background-color: white;}#sk-container-id-2 pre{padding: 0;}#sk-container-id-2 div.sk-toggleable {background-color: white;}#sk-container-id-2 label.sk-toggleable__label {cursor: pointer;display: block;width: 100%;margin-bottom: 0;padding: 0.3em;box-sizing: border-box;text-align: center;}#sk-container-id-2 label.sk-toggleable__label-arrow:before {content: \"▸\";float: left;margin-right: 0.25em;color: #696969;}#sk-container-id-2 label.sk-toggleable__label-arrow:hover:before {color: black;}#sk-container-id-2 div.sk-estimator:hover label.sk-toggleable__label-arrow:before {color: black;}#sk-container-id-2 div.sk-toggleable__content {max-height: 0;max-width: 0;overflow: hidden;text-align: left;background-color: #f0f8ff;}#sk-container-id-2 div.sk-toggleable__content pre {margin: 0.2em;color: black;border-radius: 0.25em;background-color: #f0f8ff;}#sk-container-id-2 input.sk-toggleable__control:checked~div.sk-toggleable__content {max-height: 200px;max-width: 100%;overflow: auto;}#sk-container-id-2 input.sk-toggleable__control:checked~label.sk-toggleable__label-arrow:before {content: \"▾\";}#sk-container-id-2 div.sk-estimator input.sk-toggleable__control:checked~label.sk-toggleable__label {background-color: #d4ebff;}#sk-container-id-2 div.sk-label input.sk-toggleable__control:checked~label.sk-toggleable__label {background-color: #d4ebff;}#sk-container-id-2 input.sk-hidden--visually {border: 0;clip: rect(1px 1px 1px 1px);clip: rect(1px, 1px, 1px, 1px);height: 1px;margin: -1px;overflow: hidden;padding: 0;position: absolute;width: 1px;}#sk-container-id-2 div.sk-estimator {font-family: monospace;background-color: #f0f8ff;border: 1px dotted black;border-radius: 0.25em;box-sizing: border-box;margin-bottom: 0.5em;}#sk-container-id-2 div.sk-estimator:hover {background-color: #d4ebff;}#sk-container-id-2 div.sk-parallel-item::after {content: \"\";width: 100%;border-bottom: 1px solid gray;flex-grow: 1;}#sk-container-id-2 div.sk-label:hover label.sk-toggleable__label {background-color: #d4ebff;}#sk-container-id-2 div.sk-serial::before {content: \"\";position: absolute;border-left: 1px solid gray;box-sizing: border-box;top: 0;bottom: 0;left: 50%;z-index: 0;}#sk-container-id-2 div.sk-serial {display: flex;flex-direction: column;align-items: center;background-color: white;padding-right: 0.2em;padding-left: 0.2em;position: relative;}#sk-container-id-2 div.sk-item {position: relative;z-index: 1;}#sk-container-id-2 div.sk-parallel {display: flex;align-items: stretch;justify-content: center;background-color: white;position: relative;}#sk-container-id-2 div.sk-item::before, #sk-container-id-2 div.sk-parallel-item::before {content: \"\";position: absolute;border-left: 1px solid gray;box-sizing: border-box;top: 0;bottom: 0;left: 50%;z-index: -1;}#sk-container-id-2 div.sk-parallel-item {display: flex;flex-direction: column;z-index: 1;position: relative;background-color: white;}#sk-container-id-2 div.sk-parallel-item:first-child::after {align-self: flex-end;width: 50%;}#sk-container-id-2 div.sk-parallel-item:last-child::after {align-self: flex-start;width: 50%;}#sk-container-id-2 div.sk-parallel-item:only-child::after {width: 0;}#sk-container-id-2 div.sk-dashed-wrapped {border: 1px dashed gray;margin: 0 0.4em 0.5em 0.4em;box-sizing: border-box;padding-bottom: 0.4em;background-color: white;}#sk-container-id-2 div.sk-label label {font-family: monospace;font-weight: bold;display: inline-block;line-height: 1.2em;}#sk-container-id-2 div.sk-label-container {text-align: center;}#sk-container-id-2 div.sk-container {/* jupyter's `normalize.less` sets `[hidden] { display: none; }` but bootstrap.min.css set `[hidden] { display: none !important; }` so we also need the `!important` here to be able to override the default hidden behavior on the sphinx rendered scikit-learn.org. See: https://github.com/scikit-learn/scikit-learn/issues/21755 */display: inline-block !important;position: relative;}#sk-container-id-2 div.sk-text-repr-fallback {display: none;}</style><div id=\"sk-container-id-2\" class=\"sk-top-container\"><div class=\"sk-text-repr-fallback\"><pre>GridSearchCV(cv=5, estimator=RandomForestClassifier(random_state=42),\n",
       "             param_grid={&#x27;max_depth&#x27;: [8, 12, 16, 20],\n",
       "                         &#x27;min_samples_split&#x27;: [16, 24]},\n",
       "             verbose=1)</pre><b>In a Jupyter environment, please rerun this cell to show the HTML representation or trust the notebook. <br />On GitHub, the HTML representation is unable to render, please try loading this page with nbviewer.org.</b></div><div class=\"sk-container\" hidden><div class=\"sk-item sk-dashed-wrapped\"><div class=\"sk-label-container\"><div class=\"sk-label sk-toggleable\"><input class=\"sk-toggleable__control sk-hidden--visually\" id=\"sk-estimator-id-2\" type=\"checkbox\" ><label for=\"sk-estimator-id-2\" class=\"sk-toggleable__label sk-toggleable__label-arrow\">GridSearchCV</label><div class=\"sk-toggleable__content\"><pre>GridSearchCV(cv=5, estimator=RandomForestClassifier(random_state=42),\n",
       "             param_grid={&#x27;max_depth&#x27;: [8, 12, 16, 20],\n",
       "                         &#x27;min_samples_split&#x27;: [16, 24]},\n",
       "             verbose=1)</pre></div></div></div><div class=\"sk-parallel\"><div class=\"sk-parallel-item\"><div class=\"sk-item\"><div class=\"sk-label-container\"><div class=\"sk-label sk-toggleable\"><input class=\"sk-toggleable__control sk-hidden--visually\" id=\"sk-estimator-id-3\" type=\"checkbox\" ><label for=\"sk-estimator-id-3\" class=\"sk-toggleable__label sk-toggleable__label-arrow\">estimator: RandomForestClassifier</label><div class=\"sk-toggleable__content\"><pre>RandomForestClassifier(random_state=42)</pre></div></div></div><div class=\"sk-serial\"><div class=\"sk-item\"><div class=\"sk-estimator sk-toggleable\"><input class=\"sk-toggleable__control sk-hidden--visually\" id=\"sk-estimator-id-4\" type=\"checkbox\" ><label for=\"sk-estimator-id-4\" class=\"sk-toggleable__label sk-toggleable__label-arrow\">RandomForestClassifier</label><div class=\"sk-toggleable__content\"><pre>RandomForestClassifier(random_state=42)</pre></div></div></div></div></div></div></div></div></div></div>"
      ],
      "text/plain": [
       "GridSearchCV(cv=5, estimator=RandomForestClassifier(random_state=42),\n",
       "             param_grid={'max_depth': [8, 12, 16, 20],\n",
       "                         'min_samples_split': [16, 24]},\n",
       "             verbose=1)"
      ]
     },
     "execution_count": 45,
     "metadata": {},
     "output_type": "execute_result"
    }
   ],
   "source": [
    "from sklearn.model_selection import GridSearchCV\n",
    "\n",
    "params={\n",
    "    \"max_depth\":[8, 12, 16, 20],\n",
    "    \"min_samples_split\" : [16, 24]\n",
    "}\n",
    "\n",
    "X_train_feature_importances = X_train[df.index]\n",
    "\n",
    "grid_cv = GridSearchCV(rfc , param_grid=params , cv=5 , verbose=1)\n",
    "grid_cv.fit(X_train_feature_importances , y_train)"
   ]
  },
  {
   "cell_type": "code",
   "execution_count": 47,
   "metadata": {},
   "outputs": [],
   "source": [
    "best_rfc = grid_cv.best_estimator_ "
   ]
  },
  {
   "cell_type": "code",
   "execution_count": 51,
   "metadata": {},
   "outputs": [
    {
     "data": {
      "text/plain": [
       "array([2, 2, 2, ..., 3, 3, 3])"
      ]
     },
     "execution_count": 51,
     "metadata": {},
     "output_type": "execute_result"
    }
   ],
   "source": [
    "pred = best_rfc.predict(X_test[df.index])\n",
    "pred"
   ]
  },
  {
   "cell_type": "code",
   "execution_count": 53,
   "metadata": {},
   "outputs": [
    {
     "data": {
      "text/plain": [
       "0.8018323719036308"
      ]
     },
     "execution_count": 53,
     "metadata": {},
     "output_type": "execute_result"
    }
   ],
   "source": [
    "from sklearn.metrics import accuracy_score , recall_score , precision_score , f1_score\n",
    "\n",
    "accuracy_score(y_test, pred)"
   ]
  },
  {
   "cell_type": "code",
   "execution_count": null,
   "metadata": {},
   "outputs": [],
   "source": []
  }
 ],
 "metadata": {
  "kernelspec": {
   "display_name": "Python 3",
   "language": "python",
   "name": "python3"
  },
  "language_info": {
   "codemirror_mode": {
    "name": "ipython",
    "version": 3
   },
   "file_extension": ".py",
   "mimetype": "text/x-python",
   "name": "python",
   "nbconvert_exporter": "python",
   "pygments_lexer": "ipython3",
   "version": "3.10.1"
  },
  "orig_nbformat": 4
 },
 "nbformat": 4,
 "nbformat_minor": 2
}
