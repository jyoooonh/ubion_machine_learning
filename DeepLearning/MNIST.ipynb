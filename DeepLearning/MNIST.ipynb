{
 "cells": [
  {
   "cell_type": "code",
   "execution_count": 2,
   "metadata": {},
   "outputs": [],
   "source": [
    "from tensorflow.keras.models import Sequential\n",
    "from tensorflow.keras.layers import Dense, Softmax\n",
    "from tensorflow.keras.datasets.mnist import load_data\n",
    "import tensorflow as tf\n",
    "\n",
    "(x_train, y_train), (x_test, y_test) = load_data()"
   ]
  },
  {
   "cell_type": "code",
   "execution_count": 4,
   "metadata": {},
   "outputs": [
    {
     "data": {
      "text/plain": [
       "<matplotlib.image.AxesImage at 0x28715f450>"
      ]
     },
     "execution_count": 4,
     "metadata": {},
     "output_type": "execute_result"
    },
    {
     "data": {
      "image/png": "[encoded data removed]",
      "text/plain": [
       "<Figure size 640x480 with 1 Axes>"
      ]
     },
     "metadata": {},
     "output_type": "display_data"
    }
   ],
   "source": [
    "import matplotlib.pyplot as plt\n",
    "\n",
    "plt.imshow(x_train[1])"
   ]
  },
  {
   "cell_type": "code",
   "execution_count": null,
   "metadata": {},
   "outputs": [],
   "source": [
    "x_train[1]"
   ]
  },
  {
   "cell_type": "code",
   "execution_count": null,
   "metadata": {},
   "outputs": [],
   "source": [
    "x_train = x_train.reshape(60000, 784)\n",
    "x_test = x_test.reshape(10000, 784)"
   ]
  },
  {
   "cell_type": "markdown",
   "metadata": {},
   "source": [
    ">compile(\n",
    "    optimizer='rmsprop',\n",
    "    loss=None,\n",
    "    metrics=None,\n",
    "    loss_weights=None,\n",
    "    weighted_metrics=None,\n",
    "    run_eagerly=None,\n",
    "    steps_per_execution=None,\n",
    "    jit_compile=None,\n",
    "    pss_evaluation_shards=0,\n",
    "    **kwargs\n",
    ")"
   ]
  },
  {
   "cell_type": "markdown",
   "metadata": {},
   "source": [
    "> tf.keras.utils.to_categorical(\n",
    "    y, num_classes=None, dtype='float32'\n",
    ")"
   ]
  },
  {
   "cell_type": "code",
   "execution_count": null,
   "metadata": {},
   "outputs": [],
   "source": [
    "from tensorflow.keras.utils import to_categorical\n",
    "\n",
    "y_train = to_categorical(y_train, num_classes=10)"
   ]
  },
  {
   "cell_type": "code",
   "execution_count": null,
   "metadata": {},
   "outputs": [],
   "source": [
    "# softmax = Softmax()\n",
    "model = Sequential()\n",
    "model.add(Dense(512, input_shape=(784, ), activation='relu'))\n",
    "model.add(Dense(10, activation='softmax'))"
   ]
  },
  {
   "cell_type": "markdown",
   "metadata": {},
   "source": [
    ">tf.keras.losses.CategoricalCrossentropy(\n",
    "    from_logits=False,\n",
    "    label_smoothing=0.0,\n",
    "    axis=-1,\n",
    "    reduction=losses_utils.ReductionV2.AUTO,\n",
    "    name='categorical_crossentropy'\n",
    ")"
   ]
  },
  {
   "cell_type": "code",
   "execution_count": null,
   "metadata": {},
   "outputs": [],
   "source": [
    "categorical_crossentropy = tf.keras.losses.CategoricalCrossentropy()\n",
    "model.compile(loss='categorical_crossentropy', optimizer='adam', metrics=['accuracy'])"
   ]
  },
  {
   "cell_type": "code",
   "execution_count": null,
   "metadata": {},
   "outputs": [],
   "source": [
    "model.summary()"
   ]
  },
  {
   "cell_type": "markdown",
   "metadata": {},
   "source": [
    ">fit(\n",
    "    x=None,\n",
    "    y=None,\n",
    "    batch_size=None,\n",
    "    epochs=1,\n",
    "    verbose='auto',\n",
    "    callbacks=None,\n",
    "    validation_split=0.0,\n",
    "    validation_data=None,\n",
    "    shuffle=True,\n",
    "    class_weight=None,\n",
    "    sample_weight=None,\n",
    "    initial_epoch=0,\n",
    "    steps_per_epoch=None,\n",
    "    validation_steps=None,\n",
    "    validation_batch_size=None,\n",
    "    validation_freq=1,\n",
    "    max_queue_size=10,\n",
    "    workers=1,\n",
    "    use_multiprocessing=False\n",
    ")"
   ]
  },
  {
   "cell_type": "code",
   "execution_count": 30,
   "metadata": {},
   "outputs": [
    {
     "name": "stdout",
     "output_type": "stream",
     "text": [
      "Epoch 1/100\n",
      "600/600 [==============================] - 1s 2ms/step - loss: 0.0721 - accuracy: 0.9964\n",
      "Epoch 2/100\n",
      "600/600 [==============================] - 1s 2ms/step - loss: 0.0564 - accuracy: 0.9963\n",
      "Epoch 3/100\n",
      "600/600 [==============================] - 1s 2ms/step - loss: 0.1035 - accuracy: 0.9956\n",
      "Epoch 4/100\n",
      "600/600 [==============================] - 1s 2ms/step - loss: 0.0909 - accuracy: 0.9958\n",
      "Epoch 5/100\n",
      "600/600 [==============================] - 1s 2ms/step - loss: 0.0597 - accuracy: 0.9963\n",
      "Epoch 6/100\n",
      "600/600 [==============================] - 1s 2ms/step - loss: 0.0478 - accuracy: 0.9968\n",
      "Epoch 7/100\n",
      "600/600 [==============================] - 1s 2ms/step - loss: 0.0392 - accuracy: 0.9973\n",
      "Epoch 8/100\n",
      "600/600 [==============================] - 1s 2ms/step - loss: 0.0771 - accuracy: 0.9967\n",
      "Epoch 9/100\n",
      "600/600 [==============================] - 1s 2ms/step - loss: 0.0959 - accuracy: 0.9964\n",
      "Epoch 10/100\n",
      "600/600 [==============================] - 1s 2ms/step - loss: 0.0610 - accuracy: 0.9968\n",
      "Epoch 11/100\n",
      "600/600 [==============================] - 1s 2ms/step - loss: 0.0506 - accuracy: 0.9972\n",
      "Epoch 12/100\n",
      "600/600 [==============================] - 1s 2ms/step - loss: 0.0775 - accuracy: 0.9961\n",
      "Epoch 13/100\n",
      "600/600 [==============================] - 1s 2ms/step - loss: 0.0589 - accuracy: 0.9968\n",
      "Epoch 14/100\n",
      "600/600 [==============================] - 1s 2ms/step - loss: 0.0815 - accuracy: 0.9963\n",
      "Epoch 15/100\n",
      "600/600 [==============================] - 1s 2ms/step - loss: 0.0721 - accuracy: 0.9968\n",
      "Epoch 16/100\n",
      "600/600 [==============================] - 1s 2ms/step - loss: 0.0644 - accuracy: 0.9967\n",
      "Epoch 17/100\n",
      "600/600 [==============================] - 1s 2ms/step - loss: 0.1075 - accuracy: 0.9958\n",
      "Epoch 18/100\n",
      "600/600 [==============================] - 1s 2ms/step - loss: 0.0690 - accuracy: 0.9971\n",
      "Epoch 19/100\n",
      "600/600 [==============================] - 1s 2ms/step - loss: 0.0565 - accuracy: 0.9972\n",
      "Epoch 20/100\n",
      "600/600 [==============================] - 1s 2ms/step - loss: 0.0860 - accuracy: 0.9959\n",
      "Epoch 21/100\n",
      "600/600 [==============================] - 1s 2ms/step - loss: 0.0628 - accuracy: 0.9972\n",
      "Epoch 22/100\n",
      "600/600 [==============================] - 1s 2ms/step - loss: 0.0559 - accuracy: 0.9971\n",
      "Epoch 23/100\n",
      "600/600 [==============================] - 1s 2ms/step - loss: 0.0777 - accuracy: 0.9971\n",
      "Epoch 24/100\n",
      "600/600 [==============================] - 1s 2ms/step - loss: 0.0736 - accuracy: 0.9967\n",
      "Epoch 25/100\n",
      "600/600 [==============================] - 1s 2ms/step - loss: 0.0298 - accuracy: 0.9980\n",
      "Epoch 26/100\n",
      "600/600 [==============================] - 1s 2ms/step - loss: 0.0462 - accuracy: 0.9976\n",
      "Epoch 27/100\n",
      "600/600 [==============================] - 1s 2ms/step - loss: 0.0753 - accuracy: 0.9969\n",
      "Epoch 28/100\n",
      "600/600 [==============================] - 1s 2ms/step - loss: 0.1137 - accuracy: 0.9963\n",
      "Epoch 29/100\n",
      "600/600 [==============================] - 1s 2ms/step - loss: 0.0851 - accuracy: 0.9966\n",
      "Epoch 30/100\n",
      "600/600 [==============================] - 1s 2ms/step - loss: 0.0590 - accuracy: 0.9973\n",
      "Epoch 31/100\n",
      "600/600 [==============================] - 1s 2ms/step - loss: 0.0354 - accuracy: 0.9977\n",
      "Epoch 32/100\n",
      "600/600 [==============================] - 1s 2ms/step - loss: 0.0578 - accuracy: 0.9972\n",
      "Epoch 33/100\n",
      "600/600 [==============================] - 1s 2ms/step - loss: 0.0446 - accuracy: 0.9974\n",
      "Epoch 34/100\n",
      "600/600 [==============================] - 1s 2ms/step - loss: 0.0440 - accuracy: 0.9974\n",
      "Epoch 35/100\n",
      "600/600 [==============================] - 1s 2ms/step - loss: 0.0737 - accuracy: 0.9967\n",
      "Epoch 36/100\n",
      "600/600 [==============================] - 1s 2ms/step - loss: 0.0995 - accuracy: 0.9968\n",
      "Epoch 37/100\n",
      "600/600 [==============================] - 1s 2ms/step - loss: 0.1035 - accuracy: 0.9963\n",
      "Epoch 38/100\n",
      "600/600 [==============================] - 1s 2ms/step - loss: 0.0538 - accuracy: 0.9972\n",
      "Epoch 39/100\n",
      "600/600 [==============================] - 1s 2ms/step - loss: 0.0383 - accuracy: 0.9976\n",
      "Epoch 40/100\n",
      "600/600 [==============================] - 1s 2ms/step - loss: 0.0776 - accuracy: 0.9968\n",
      "Epoch 41/100\n",
      "600/600 [==============================] - 1s 2ms/step - loss: 0.0631 - accuracy: 0.9973\n",
      "Epoch 42/100\n",
      "600/600 [==============================] - 1s 2ms/step - loss: 0.0368 - accuracy: 0.9979\n",
      "Epoch 43/100\n",
      "600/600 [==============================] - 1s 2ms/step - loss: 0.0745 - accuracy: 0.9973\n",
      "Epoch 44/100\n",
      "600/600 [==============================] - 1s 2ms/step - loss: 0.0742 - accuracy: 0.9970\n",
      "Epoch 45/100\n",
      "600/600 [==============================] - 1s 2ms/step - loss: 0.0481 - accuracy: 0.9974\n",
      "Epoch 46/100\n",
      "600/600 [==============================] - 1s 2ms/step - loss: 0.0292 - accuracy: 0.9979\n",
      "Epoch 47/100\n",
      "600/600 [==============================] - 1s 2ms/step - loss: 0.0520 - accuracy: 0.9972\n",
      "Epoch 48/100\n",
      "600/600 [==============================] - 1s 2ms/step - loss: 0.0976 - accuracy: 0.9970\n",
      "Epoch 49/100\n",
      "600/600 [==============================] - 1s 2ms/step - loss: 0.0658 - accuracy: 0.9972\n",
      "Epoch 50/100\n",
      "600/600 [==============================] - 1s 2ms/step - loss: 0.0588 - accuracy: 0.9977\n",
      "Epoch 51/100\n",
      "600/600 [==============================] - 1s 2ms/step - loss: 0.0661 - accuracy: 0.9972\n",
      "Epoch 52/100\n",
      "600/600 [==============================] - 1s 2ms/step - loss: 0.0817 - accuracy: 0.9972\n",
      "Epoch 53/100\n",
      "600/600 [==============================] - 1s 2ms/step - loss: 0.0594 - accuracy: 0.9974\n",
      "Epoch 54/100\n",
      "600/600 [==============================] - 1s 2ms/step - loss: 0.0417 - accuracy: 0.9978\n",
      "Epoch 55/100\n",
      "600/600 [==============================] - 1s 2ms/step - loss: 0.0720 - accuracy: 0.9978\n",
      "Epoch 56/100\n",
      "600/600 [==============================] - 1s 2ms/step - loss: 0.0837 - accuracy: 0.9974\n",
      "Epoch 57/100\n",
      "600/600 [==============================] - 1s 2ms/step - loss: 0.0444 - accuracy: 0.9981\n",
      "Epoch 58/100\n",
      "600/600 [==============================] - 1s 2ms/step - loss: 0.0697 - accuracy: 0.9975\n",
      "Epoch 59/100\n",
      "600/600 [==============================] - 1s 2ms/step - loss: 0.0729 - accuracy: 0.9976\n",
      "Epoch 60/100\n",
      "600/600 [==============================] - 1s 2ms/step - loss: 0.0385 - accuracy: 0.9982\n",
      "Epoch 61/100\n",
      "600/600 [==============================] - 1s 2ms/step - loss: 0.0404 - accuracy: 0.9981\n",
      "Epoch 62/100\n",
      "600/600 [==============================] - 1s 2ms/step - loss: 0.0566 - accuracy: 0.9978\n",
      "Epoch 63/100\n",
      "600/600 [==============================] - 1s 2ms/step - loss: 0.0678 - accuracy: 0.9979\n",
      "Epoch 64/100\n",
      "600/600 [==============================] - 1s 2ms/step - loss: 0.0809 - accuracy: 0.9974\n",
      "Epoch 65/100\n",
      "600/600 [==============================] - 1s 2ms/step - loss: 0.0365 - accuracy: 0.9981\n",
      "Epoch 66/100\n",
      "600/600 [==============================] - 1s 2ms/step - loss: 0.0367 - accuracy: 0.9984\n",
      "Epoch 67/100\n",
      "600/600 [==============================] - 1s 2ms/step - loss: 0.0589 - accuracy: 0.9979\n",
      "Epoch 68/100\n",
      "600/600 [==============================] - 1s 2ms/step - loss: 0.0499 - accuracy: 0.9982\n",
      "Epoch 69/100\n",
      "600/600 [==============================] - 1s 2ms/step - loss: 0.0687 - accuracy: 0.9977\n",
      "Epoch 70/100\n",
      "600/600 [==============================] - 1s 2ms/step - loss: 0.0800 - accuracy: 0.9976\n",
      "Epoch 71/100\n",
      "600/600 [==============================] - 1s 2ms/step - loss: 0.0897 - accuracy: 0.9976\n",
      "Epoch 72/100\n",
      "600/600 [==============================] - 1s 2ms/step - loss: 0.0619 - accuracy: 0.9980\n",
      "Epoch 73/100\n",
      "600/600 [==============================] - 1s 2ms/step - loss: 0.0586 - accuracy: 0.9980\n",
      "Epoch 74/100\n",
      "600/600 [==============================] - 1s 2ms/step - loss: 0.0591 - accuracy: 0.9981\n",
      "Epoch 75/100\n",
      "600/600 [==============================] - 1s 2ms/step - loss: 0.0292 - accuracy: 0.9982\n",
      "Epoch 76/100\n",
      "600/600 [==============================] - 1s 2ms/step - loss: 0.0866 - accuracy: 0.9972\n",
      "Epoch 77/100\n",
      "600/600 [==============================] - 1s 2ms/step - loss: 0.0490 - accuracy: 0.9978\n",
      "Epoch 78/100\n",
      "600/600 [==============================] - 1s 2ms/step - loss: 0.0399 - accuracy: 0.9981\n",
      "Epoch 79/100\n",
      "600/600 [==============================] - 1s 2ms/step - loss: 0.0582 - accuracy: 0.9979\n",
      "Epoch 80/100\n",
      "600/600 [==============================] - 1s 2ms/step - loss: 0.0953 - accuracy: 0.9975\n",
      "Epoch 81/100\n",
      "600/600 [==============================] - 1s 2ms/step - loss: 0.0559 - accuracy: 0.9979\n",
      "Epoch 82/100\n",
      "600/600 [==============================] - 1s 2ms/step - loss: 0.0756 - accuracy: 0.9975\n",
      "Epoch 83/100\n",
      "600/600 [==============================] - 1s 2ms/step - loss: 0.0621 - accuracy: 0.9978\n",
      "Epoch 84/100\n",
      "600/600 [==============================] - 1s 2ms/step - loss: 0.0425 - accuracy: 0.9980\n",
      "Epoch 85/100\n",
      "600/600 [==============================] - 1s 2ms/step - loss: 0.0264 - accuracy: 0.9984\n",
      "Epoch 86/100\n",
      "600/600 [==============================] - 1s 2ms/step - loss: 0.0353 - accuracy: 0.9982\n",
      "Epoch 87/100\n",
      "600/600 [==============================] - 1s 2ms/step - loss: 0.0559 - accuracy: 0.9979\n",
      "Epoch 88/100\n",
      "600/600 [==============================] - 1s 2ms/step - loss: 0.0578 - accuracy: 0.9977\n",
      "Epoch 89/100\n",
      "600/600 [==============================] - 1s 2ms/step - loss: 0.0630 - accuracy: 0.9978\n",
      "Epoch 90/100\n",
      "600/600 [==============================] - 1s 2ms/step - loss: 0.0561 - accuracy: 0.9981\n",
      "Epoch 91/100\n",
      "600/600 [==============================] - 1s 2ms/step - loss: 0.0551 - accuracy: 0.9980\n",
      "Epoch 92/100\n",
      "600/600 [==============================] - 1s 2ms/step - loss: 0.0429 - accuracy: 0.9981\n",
      "Epoch 93/100\n",
      "600/600 [==============================] - 1s 2ms/step - loss: 0.0533 - accuracy: 0.9978\n",
      "Epoch 94/100\n",
      "600/600 [==============================] - 1s 2ms/step - loss: 0.0582 - accuracy: 0.9980\n",
      "Epoch 95/100\n",
      "600/600 [==============================] - 1s 2ms/step - loss: 0.0433 - accuracy: 0.9981\n",
      "Epoch 96/100\n",
      "600/600 [==============================] - 1s 2ms/step - loss: 0.0286 - accuracy: 0.9983\n",
      "Epoch 97/100\n",
      "600/600 [==============================] - 1s 2ms/step - loss: 0.0981 - accuracy: 0.9977\n",
      "Epoch 98/100\n",
      "600/600 [==============================] - 1s 2ms/step - loss: 0.0548 - accuracy: 0.9979\n",
      "Epoch 99/100\n",
      "600/600 [==============================] - 1s 2ms/step - loss: 0.0566 - accuracy: 0.9981\n",
      "Epoch 100/100\n",
      "600/600 [==============================] - 1s 2ms/step - loss: 0.0320 - accuracy: 0.9984\n"
     ]
    },
    {
     "data": {
      "text/plain": [
       "<keras.src.callbacks.History at 0x14b4e6b10>"
      ]
     },
     "execution_count": 30,
     "metadata": {},
     "output_type": "execute_result"
    }
   ],
   "source": [
    "model.fit(\n",
    "\t x=x_train,\n",
    "\t y=y_train,\n",
    "\t batch_size=100,\n",
    "\t epochs=100,\n",
    "\t verbose='auto',\n",
    "\t callbacks=None\n",
    ")"
   ]
  },
  {
   "cell_type": "code",
   "execution_count": null,
   "metadata": {},
   "outputs": [],
   "source": [
    "score = model.evaluate(x_test, y_test, verbose=0)\n",
    "print('테스트 손실값 : ', score[0])\n",
    "print('테스트 정확도 : ', score[1])"
   ]
  },
  {
   "cell_type": "code",
   "execution_count": 5,
   "metadata": {},
   "outputs": [
    {
     "data": {
      "text/plain": [
       "<function matplotlib.pyplot.show(close=None, block=None)>"
      ]
     },
     "execution_count": 5,
     "metadata": {},
     "output_type": "execute_result"
    },
    {
     "data": {
      "image/png": "[encoded data removed]",
      "text/plain": [
       "<Figure size 640x480 with 1 Axes>"
      ]
     },
     "metadata": {},
     "output_type": "display_data"
    }
   ],
   "source": [
    "plt.imshow(x_train[0], cmap='Greys')\n",
    "plt.show"
   ]
  },
  {
   "cell_type": "code",
   "execution_count": null,
   "metadata": {},
   "outputs": [],
   "source": []
  }
 ],
 "metadata": {
  "kernelspec": {
   "display_name": "Python 3",
   "language": "python",
   "name": "python3"
  },
  "language_info": {
   "codemirror_mode": {
    "name": "ipython",
    "version": 3
   },
   "file_extension": ".py",
   "mimetype": "text/x-python",
   "name": "python",
   "nbconvert_exporter": "python",
   "pygments_lexer": "ipython3",
   "version": "3.11.4"
  }
 },
 "nbformat": 4,
 "nbformat_minor": 2
}
