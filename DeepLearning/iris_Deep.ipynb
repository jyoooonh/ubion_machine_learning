{
 "cells": [
  {
   "cell_type": "code",
   "execution_count": 36,
   "metadata": {},
   "outputs": [],
   "source": [
    "import tensorflow as tf\n",
    "from sklearn.datasets import load_iris\n",
    "from sklearn.model_selection import train_test_split\n",
    "from tensorflow.keras.models import Sequential\n",
    "from tensorflow.keras.layers import Dense\n",
    "from tensorflow.keras.utils import to_categorical"
   ]
  },
  {
   "cell_type": "code",
   "execution_count": 37,
   "metadata": {},
   "outputs": [],
   "source": [
    "iris = load_iris()"
   ]
  },
  {
   "cell_type": "code",
   "execution_count": 38,
   "metadata": {},
   "outputs": [],
   "source": [
    "X = iris.data\n",
    "y = iris.target"
   ]
  },
  {
   "cell_type": "code",
   "execution_count": 39,
   "metadata": {},
   "outputs": [],
   "source": [
    "X_train, X_test, y_train, y_test = train_test_split(X, y, stratify=y, test_size=0.3)"
   ]
  },
  {
   "cell_type": "code",
   "execution_count": 40,
   "metadata": {},
   "outputs": [],
   "source": [
    "y_train = to_categorical(y_train, 3)\n",
    "y_test = to_categorical(y_test, 3)"
   ]
  },
  {
   "cell_type": "code",
   "execution_count": 41,
   "metadata": {},
   "outputs": [],
   "source": [
    "model = Sequential()\n",
    "model.add(Dense(128, activation='relu', input_dim=4))\n",
    "model.add(Dense(64, activation='relu'))\n",
    "model.add(Dense(3, activation='softmax'))"
   ]
  },
  {
   "cell_type": "code",
   "execution_count": 42,
   "metadata": {},
   "outputs": [],
   "source": [
    "categorical_crossentropy = tf.keras.losses.CategoricalCrossentropy()\n",
    "model.compile(loss='categorical_crossentropy', optimizer='adam', metrics=['accuracy'])"
   ]
  },
  {
   "cell_type": "code",
   "execution_count": 43,
   "metadata": {},
   "outputs": [
    {
     "name": "stdout",
     "output_type": "stream",
     "text": [
      "Model: \"sequential_7\"\n",
      "_________________________________________________________________\n",
      " Layer (type)                Output Shape              Param #   \n",
      "=================================================================\n",
      " dense_16 (Dense)            (None, 128)               640       \n",
      "                                                                 \n",
      " dense_17 (Dense)            (None, 64)                8256      \n",
      "                                                                 \n",
      " dense_18 (Dense)            (None, 3)                 195       \n",
      "                                                                 \n",
      "=================================================================\n",
      "Total params: 9091 (35.51 KB)\n",
      "Trainable params: 9091 (35.51 KB)\n",
      "Non-trainable params: 0 (0.00 Byte)\n",
      "_________________________________________________________________\n"
     ]
    }
   ],
   "source": [
    "model.summary()"
   ]
  },
  {
   "cell_type": "code",
   "execution_count": 44,
   "metadata": {},
   "outputs": [
    {
     "name": "stdout",
     "output_type": "stream",
     "text": [
      "Epoch 1/100\n"
     ]
    },
    {
     "name": "stdout",
     "output_type": "stream",
     "text": [
      "2/2 [==============================] - 0s 2ms/step - loss: 1.1119 - accuracy: 0.3333\n",
      "Epoch 2/100\n",
      "2/2 [==============================] - 0s 1ms/step - loss: 0.9661 - accuracy: 0.2952\n",
      "Epoch 3/100\n",
      "2/2 [==============================] - 0s 3ms/step - loss: 0.8788 - accuracy: 0.6667\n",
      "Epoch 4/100\n",
      "2/2 [==============================] - 0s 2ms/step - loss: 0.8351 - accuracy: 0.6667\n",
      "Epoch 5/100\n",
      "2/2 [==============================] - 0s 1ms/step - loss: 0.7928 - accuracy: 0.6667\n",
      "Epoch 6/100\n",
      "2/2 [==============================] - 0s 1ms/step - loss: 0.7526 - accuracy: 0.6667\n",
      "Epoch 7/100\n",
      "2/2 [==============================] - 0s 2ms/step - loss: 0.7210 - accuracy: 0.6667\n",
      "Epoch 8/100\n",
      "2/2 [==============================] - 0s 2ms/step - loss: 0.6925 - accuracy: 0.6667\n",
      "Epoch 9/100\n",
      "2/2 [==============================] - 0s 1ms/step - loss: 0.6702 - accuracy: 0.6667\n",
      "Epoch 10/100\n",
      "2/2 [==============================] - 0s 1ms/step - loss: 0.6494 - accuracy: 0.6667\n",
      "Epoch 11/100\n",
      "2/2 [==============================] - 0s 1ms/step - loss: 0.6296 - accuracy: 0.6667\n",
      "Epoch 12/100\n",
      "2/2 [==============================] - 0s 2ms/step - loss: 0.6080 - accuracy: 0.6667\n",
      "Epoch 13/100\n",
      "2/2 [==============================] - 0s 1ms/step - loss: 0.5842 - accuracy: 0.6667\n",
      "Epoch 14/100\n",
      "2/2 [==============================] - 0s 2ms/step - loss: 0.5600 - accuracy: 0.6762\n",
      "Epoch 15/100\n",
      "2/2 [==============================] - 0s 1ms/step - loss: 0.5386 - accuracy: 0.7524\n",
      "Epoch 16/100\n",
      "2/2 [==============================] - 0s 1ms/step - loss: 0.5213 - accuracy: 0.7810\n",
      "Epoch 17/100\n",
      "2/2 [==============================] - 0s 1ms/step - loss: 0.5045 - accuracy: 0.8857\n",
      "Epoch 18/100\n",
      "2/2 [==============================] - 0s 2ms/step - loss: 0.4952 - accuracy: 0.9429\n",
      "Epoch 19/100\n",
      "2/2 [==============================] - 0s 2ms/step - loss: 0.4837 - accuracy: 0.9619\n",
      "Epoch 20/100\n",
      "2/2 [==============================] - 0s 2ms/step - loss: 0.4691 - accuracy: 0.9333\n",
      "Epoch 21/100\n",
      "2/2 [==============================] - 0s 1ms/step - loss: 0.4573 - accuracy: 0.8952\n",
      "Epoch 22/100\n",
      "2/2 [==============================] - 0s 1ms/step - loss: 0.4472 - accuracy: 0.9238\n",
      "Epoch 23/100\n",
      "2/2 [==============================] - 0s 1ms/step - loss: 0.4400 - accuracy: 0.9429\n",
      "Epoch 24/100\n",
      "2/2 [==============================] - 0s 2ms/step - loss: 0.4348 - accuracy: 0.9714\n",
      "Epoch 25/100\n",
      "2/2 [==============================] - 0s 2ms/step - loss: 0.4254 - accuracy: 0.9619\n",
      "Epoch 26/100\n",
      "2/2 [==============================] - 0s 2ms/step - loss: 0.4151 - accuracy: 0.9429\n",
      "Epoch 27/100\n",
      "2/2 [==============================] - 0s 1ms/step - loss: 0.4065 - accuracy: 0.9429\n",
      "Epoch 28/100\n",
      "2/2 [==============================] - 0s 2ms/step - loss: 0.3981 - accuracy: 0.9429\n",
      "Epoch 29/100\n",
      "2/2 [==============================] - 0s 2ms/step - loss: 0.3911 - accuracy: 0.9619\n",
      "Epoch 30/100\n",
      "2/2 [==============================] - 0s 1ms/step - loss: 0.3836 - accuracy: 0.9619\n",
      "Epoch 31/100\n",
      "2/2 [==============================] - 0s 1ms/step - loss: 0.3752 - accuracy: 0.9619\n",
      "Epoch 32/100\n",
      "2/2 [==============================] - 0s 2ms/step - loss: 0.3674 - accuracy: 0.9429\n",
      "Epoch 33/100\n",
      "2/2 [==============================] - 0s 2ms/step - loss: 0.3675 - accuracy: 0.9143\n",
      "Epoch 34/100\n",
      "2/2 [==============================] - 0s 2ms/step - loss: 0.3731 - accuracy: 0.8381\n",
      "Epoch 35/100\n",
      "2/2 [==============================] - 0s 2ms/step - loss: 0.3629 - accuracy: 0.8762\n",
      "Epoch 36/100\n",
      "2/2 [==============================] - 0s 2ms/step - loss: 0.3465 - accuracy: 0.9429\n",
      "Epoch 37/100\n",
      "2/2 [==============================] - 0s 2ms/step - loss: 0.3387 - accuracy: 0.9619\n",
      "Epoch 38/100\n",
      "2/2 [==============================] - 0s 2ms/step - loss: 0.3424 - accuracy: 0.9524\n",
      "Epoch 39/100\n",
      "2/2 [==============================] - 0s 1ms/step - loss: 0.3549 - accuracy: 0.9238\n",
      "Epoch 40/100\n",
      "2/2 [==============================] - 0s 1ms/step - loss: 0.3498 - accuracy: 0.9238\n",
      "Epoch 41/100\n",
      "2/2 [==============================] - 0s 2ms/step - loss: 0.3277 - accuracy: 0.9429\n",
      "Epoch 42/100\n",
      "2/2 [==============================] - 0s 1ms/step - loss: 0.3111 - accuracy: 0.9619\n",
      "Epoch 43/100\n",
      "2/2 [==============================] - 0s 1ms/step - loss: 0.3141 - accuracy: 0.9429\n",
      "Epoch 44/100\n",
      "2/2 [==============================] - 0s 1ms/step - loss: 0.3254 - accuracy: 0.8762\n",
      "Epoch 45/100\n",
      "2/2 [==============================] - 0s 1ms/step - loss: 0.3266 - accuracy: 0.8762\n",
      "Epoch 46/100\n",
      "2/2 [==============================] - 0s 2ms/step - loss: 0.3163 - accuracy: 0.8762\n",
      "Epoch 47/100\n",
      "2/2 [==============================] - 0s 2ms/step - loss: 0.3002 - accuracy: 0.9333\n",
      "Epoch 48/100\n",
      "2/2 [==============================] - 0s 1ms/step - loss: 0.2846 - accuracy: 0.9429\n",
      "Epoch 49/100\n",
      "2/2 [==============================] - 0s 1ms/step - loss: 0.2821 - accuracy: 0.9810\n",
      "Epoch 50/100\n",
      "2/2 [==============================] - 0s 1ms/step - loss: 0.2837 - accuracy: 0.9524\n",
      "Epoch 51/100\n",
      "2/2 [==============================] - 0s 2ms/step - loss: 0.2745 - accuracy: 0.9810\n",
      "Epoch 52/100\n",
      "2/2 [==============================] - 0s 1ms/step - loss: 0.2647 - accuracy: 0.9714\n",
      "Epoch 53/100\n",
      "2/2 [==============================] - 0s 1ms/step - loss: 0.2583 - accuracy: 0.9619\n",
      "Epoch 54/100\n",
      "2/2 [==============================] - 0s 1ms/step - loss: 0.2558 - accuracy: 0.9429\n",
      "Epoch 55/100\n",
      "2/2 [==============================] - 0s 2ms/step - loss: 0.2564 - accuracy: 0.9429\n",
      "Epoch 56/100\n",
      "2/2 [==============================] - 0s 2ms/step - loss: 0.2523 - accuracy: 0.9429\n",
      "Epoch 57/100\n",
      "2/2 [==============================] - 0s 1ms/step - loss: 0.2415 - accuracy: 0.9619\n",
      "Epoch 58/100\n",
      "2/2 [==============================] - 0s 1ms/step - loss: 0.2347 - accuracy: 0.9619\n",
      "Epoch 59/100\n",
      "2/2 [==============================] - 0s 1ms/step - loss: 0.2311 - accuracy: 0.9714\n",
      "Epoch 60/100\n",
      "2/2 [==============================] - 0s 1ms/step - loss: 0.2375 - accuracy: 0.9524\n",
      "Epoch 61/100\n",
      "2/2 [==============================] - 0s 1ms/step - loss: 0.2363 - accuracy: 0.9429\n",
      "Epoch 62/100\n",
      "2/2 [==============================] - 0s 2ms/step - loss: 0.2200 - accuracy: 0.9810\n",
      "Epoch 63/100\n",
      "2/2 [==============================] - 0s 2ms/step - loss: 0.2184 - accuracy: 0.9619\n",
      "Epoch 64/100\n",
      "2/2 [==============================] - 0s 1ms/step - loss: 0.2279 - accuracy: 0.9429\n",
      "Epoch 65/100\n",
      "2/2 [==============================] - 0s 2ms/step - loss: 0.2409 - accuracy: 0.9429\n",
      "Epoch 66/100\n",
      "2/2 [==============================] - 0s 1ms/step - loss: 0.2285 - accuracy: 0.9429\n",
      "Epoch 67/100\n",
      "2/2 [==============================] - 0s 1ms/step - loss: 0.2018 - accuracy: 0.9619\n",
      "Epoch 68/100\n",
      "2/2 [==============================] - 0s 2ms/step - loss: 0.2024 - accuracy: 0.9619\n",
      "Epoch 69/100\n",
      "2/2 [==============================] - 0s 1ms/step - loss: 0.2248 - accuracy: 0.9333\n",
      "Epoch 70/100\n",
      "2/2 [==============================] - 0s 1ms/step - loss: 0.2337 - accuracy: 0.9333\n",
      "Epoch 71/100\n",
      "2/2 [==============================] - 0s 1ms/step - loss: 0.1999 - accuracy: 0.9524\n",
      "Epoch 72/100\n",
      "2/2 [==============================] - 0s 2ms/step - loss: 0.1888 - accuracy: 0.9619\n",
      "Epoch 73/100\n",
      "2/2 [==============================] - 0s 1ms/step - loss: 0.2258 - accuracy: 0.9429\n",
      "Epoch 74/100\n",
      "2/2 [==============================] - 0s 1ms/step - loss: 0.2353 - accuracy: 0.9238\n",
      "Epoch 75/100\n",
      "2/2 [==============================] - 0s 1ms/step - loss: 0.2050 - accuracy: 0.9429\n",
      "Epoch 76/100\n",
      "2/2 [==============================] - 0s 2ms/step - loss: 0.1799 - accuracy: 0.9619\n",
      "Epoch 77/100\n",
      "2/2 [==============================] - 0s 2ms/step - loss: 0.1742 - accuracy: 0.9714\n",
      "Epoch 78/100\n",
      "2/2 [==============================] - 0s 1ms/step - loss: 0.1718 - accuracy: 0.9810\n",
      "Epoch 79/100\n",
      "2/2 [==============================] - 0s 2ms/step - loss: 0.1687 - accuracy: 0.9714\n",
      "Epoch 80/100\n",
      "2/2 [==============================] - 0s 1ms/step - loss: 0.1667 - accuracy: 0.9810\n",
      "Epoch 81/100\n",
      "2/2 [==============================] - 0s 1ms/step - loss: 0.1827 - accuracy: 0.9429\n",
      "Epoch 82/100\n",
      "2/2 [==============================] - 0s 2ms/step - loss: 0.1920 - accuracy: 0.9333\n",
      "Epoch 83/100\n",
      "2/2 [==============================] - 0s 1ms/step - loss: 0.1744 - accuracy: 0.9524\n",
      "Epoch 84/100\n",
      "2/2 [==============================] - 0s 1ms/step - loss: 0.1575 - accuracy: 0.9714\n",
      "Epoch 85/100\n",
      "2/2 [==============================] - 0s 1ms/step - loss: 0.1693 - accuracy: 0.9524\n",
      "Epoch 86/100\n",
      "2/2 [==============================] - 0s 2ms/step - loss: 0.1768 - accuracy: 0.9429\n",
      "Epoch 87/100\n",
      "2/2 [==============================] - 0s 2ms/step - loss: 0.1653 - accuracy: 0.9524\n",
      "Epoch 88/100\n",
      "2/2 [==============================] - 0s 1ms/step - loss: 0.1530 - accuracy: 0.9619\n",
      "Epoch 89/100\n",
      "2/2 [==============================] - 0s 1ms/step - loss: 0.1491 - accuracy: 0.9714\n",
      "Epoch 90/100\n",
      "2/2 [==============================] - 0s 1ms/step - loss: 0.1643 - accuracy: 0.9524\n",
      "Epoch 91/100\n",
      "2/2 [==============================] - 0s 1ms/step - loss: 0.1675 - accuracy: 0.9429\n",
      "Epoch 92/100\n",
      "2/2 [==============================] - 0s 2ms/step - loss: 0.1507 - accuracy: 0.9619\n",
      "Epoch 93/100\n",
      "2/2 [==============================] - 0s 1ms/step - loss: 0.1424 - accuracy: 0.9714\n",
      "Epoch 94/100\n",
      "2/2 [==============================] - 0s 1ms/step - loss: 0.1413 - accuracy: 0.9714\n",
      "Epoch 95/100\n",
      "2/2 [==============================] - 0s 2ms/step - loss: 0.1401 - accuracy: 0.9714\n",
      "Epoch 96/100\n",
      "2/2 [==============================] - 0s 1ms/step - loss: 0.1384 - accuracy: 0.9714\n",
      "Epoch 97/100\n",
      "2/2 [==============================] - 0s 1ms/step - loss: 0.1368 - accuracy: 0.9714\n",
      "Epoch 98/100\n",
      "2/2 [==============================] - 0s 1ms/step - loss: 0.1391 - accuracy: 0.9619\n",
      "Epoch 99/100\n",
      "2/2 [==============================] - 0s 1ms/step - loss: 0.1463 - accuracy: 0.9619\n",
      "Epoch 100/100\n",
      "2/2 [==============================] - 0s 1ms/step - loss: 0.1457 - accuracy: 0.9619\n"
     ]
    },
    {
     "data": {
      "text/plain": [
       "<keras.src.callbacks.History at 0x28fe2f490>"
      ]
     },
     "execution_count": 44,
     "metadata": {},
     "output_type": "execute_result"
    }
   ],
   "source": [
    "model.fit(\n",
    "\t x=X_train,\n",
    "\t y=y_train,\n",
    "\t batch_size=100,\n",
    "\t epochs=100,\n",
    "\t verbose='auto',\n",
    "\t callbacks=None\n",
    ")"
   ]
  },
  {
   "cell_type": "code",
   "execution_count": 45,
   "metadata": {},
   "outputs": [
    {
     "name": "stdout",
     "output_type": "stream",
     "text": [
      "테스트 손실값: 0.15790273249149323\n",
      "테스트 정확도: 0.9777777791023254\n"
     ]
    }
   ],
   "source": [
    "score = model.evaluate(X_test, y_test, verbose=0)\n",
    "print('테스트 손실값:', score[0])\n",
    "print('테스트 정확도:', score[1])"
   ]
  },
  {
   "cell_type": "code",
   "execution_count": 46,
   "metadata": {},
   "outputs": [
    {
     "name": "stdout",
     "output_type": "stream",
     "text": [
      "2/2 [==============================] - 0s 984us/step\n"
     ]
    },
    {
     "data": {
      "text/plain": [
       "array([[2.40232586e-03, 6.11384392e-01, 3.86213243e-01],\n",
       "       [9.89994466e-01, 9.99706797e-03, 8.45508475e-06],\n",
       "       [9.87343431e-01, 1.26471939e-02, 9.38554513e-06],\n",
       "       [1.76783840e-06, 1.08325835e-02, 9.89165604e-01],\n",
       "       [2.98870783e-02, 9.26603913e-01, 4.35089767e-02],\n",
       "       [9.95078683e-01, 4.91915410e-03, 2.10618964e-06],\n",
       "       [8.33569386e-04, 5.26091039e-01, 4.73075360e-01],\n",
       "       [8.30982026e-06, 2.85654869e-02, 9.71426189e-01],\n",
       "       [2.60906946e-03, 7.47981250e-01, 2.49409720e-01],\n",
       "       [1.11332156e-05, 2.26980429e-02, 9.77290809e-01],\n",
       "       [9.88257587e-01, 1.17346058e-02, 7.75858189e-06],\n",
       "       [8.25909297e-07, 1.63381062e-02, 9.83660996e-01],\n",
       "       [4.50097248e-02, 9.31260228e-01, 2.37299725e-02],\n",
       "       [2.55010929e-03, 6.57769680e-01, 3.39680195e-01],\n",
       "       [9.59245086e-01, 4.06643040e-02, 9.05588167e-05],\n",
       "       [5.20698995e-06, 2.15397030e-02, 9.78455126e-01],\n",
       "       [2.38556694e-03, 8.23857367e-01, 1.73757032e-01],\n",
       "       [9.98415470e-01, 1.58422987e-03, 1.83850545e-07],\n",
       "       [2.40149791e-03, 7.07851052e-01, 2.89747417e-01],\n",
       "       [1.03522922e-04, 2.52753913e-01, 7.47142553e-01],\n",
       "       [9.86333907e-01, 1.36560956e-02, 9.99594431e-06],\n",
       "       [9.37527232e-03, 8.76174688e-01, 1.14450015e-01],\n",
       "       [1.65336387e-04, 2.11856112e-01, 7.87978530e-01],\n",
       "       [3.56879696e-04, 3.12208354e-01, 6.87434733e-01],\n",
       "       [9.95218217e-01, 4.78035351e-03, 1.43082389e-06],\n",
       "       [1.32236099e-02, 9.14699137e-01, 7.20772445e-02],\n",
       "       [4.16665762e-06, 2.48028077e-02, 9.75192964e-01],\n",
       "       [5.58823085e-05, 1.14009835e-01, 8.85934293e-01],\n",
       "       [3.32870841e-05, 7.28733316e-02, 9.27093387e-01],\n",
       "       [9.94251847e-01, 5.74689824e-03, 1.30887372e-06],\n",
       "       [9.95954037e-01, 4.04501241e-03, 1.00627460e-06],\n",
       "       [1.87002856e-03, 6.28078461e-01, 3.70051473e-01],\n",
       "       [9.83163774e-01, 1.68205649e-02, 1.57079667e-05],\n",
       "       [2.35376916e-07, 6.80703344e-03, 9.93192732e-01],\n",
       "       [9.40848142e-03, 8.85103583e-01, 1.05487935e-01],\n",
       "       [1.04446575e-04, 1.51030943e-01, 8.48864555e-01],\n",
       "       [8.83780303e-04, 4.05446678e-01, 5.93669474e-01],\n",
       "       [9.96767640e-01, 3.23158037e-03, 8.05661784e-07],\n",
       "       [9.95462477e-01, 4.53631533e-03, 1.21889263e-06],\n",
       "       [9.88649726e-01, 1.13403630e-02, 9.89916225e-06],\n",
       "       [4.73798340e-04, 2.90274173e-01, 7.09252000e-01],\n",
       "       [9.86268282e-01, 1.37155885e-02, 1.61488551e-05],\n",
       "       [6.34870818e-03, 6.94423974e-01, 2.99227387e-01],\n",
       "       [3.54398289e-05, 1.36000693e-01, 8.63963902e-01],\n",
       "       [4.09914786e-03, 6.37501299e-01, 3.58399510e-01]], dtype=float32)"
      ]
     },
     "execution_count": 46,
     "metadata": {},
     "output_type": "execute_result"
    }
   ],
   "source": [
    "model.predict(X_test)"
   ]
  },
  {
   "cell_type": "code",
   "execution_count": null,
   "metadata": {},
   "outputs": [],
   "source": []
  }
 ],
 "metadata": {
  "kernelspec": {
   "display_name": "Python 3",
   "language": "python",
   "name": "python3"
  },
  "language_info": {
   "codemirror_mode": {
    "name": "ipython",
    "version": 3
   },
   "file_extension": ".py",
   "mimetype": "text/x-python",
   "name": "python",
   "nbconvert_exporter": "python",
   "pygments_lexer": "ipython3",
   "version": "3.11.4"
  }
 },
 "nbformat": 4,
 "nbformat_minor": 2
}
