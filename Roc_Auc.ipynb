{
 "cells": [
  {
   "cell_type": "markdown",
   "metadata": {},
   "source": [
    "#### sklearn.metrics.roc_curve\n",
    "> sklearn.metrics.roc_curve(y_true, y_score, *, pos_label=None, sample_weight=None, drop_intermediate=True)\n",
    "* y_score\n",
    "\t> Target scores, can either be probability estimates of the positive class, confidence values, or non-thresholded measure of decisions (as returned by “decision_function” on some classifiers).\n",
    "\n",
    "#### sklearn.metrics.roc_auc_score\n",
    "> sklearn.metrics.roc_auc_score(y_true, y_score, *, average='macro', sample_weight=None, max_fpr=None, multi_class='raise', labels=None)"
   ]
  },
  {
   "cell_type": "code",
   "execution_count": 44,
   "metadata": {},
   "outputs": [],
   "source": [
    "import pandas as pd\n",
    "import numpy as np\n",
    "import matplotlib.pyplot as plt\n",
    "import warnings\n",
    "from sklearn.preprocessing import LabelEncoder\n",
    "from sklearn.preprocessing import MinMaxScaler\n",
    "from sklearn.linear_model import LogisticRegression\n",
    "from sklearn.tree import DecisionTreeClassifier\n",
    "from sklearn.metrics import roc_curve, roc_auc_score\n",
    "from sklearn.metrics import accuracy_score, recall_score, precision_score, f1_score, confusion_matrix"
   ]
  },
  {
   "cell_type": "code",
   "execution_count": 2,
   "metadata": {},
   "outputs": [],
   "source": [
    "warnings.filterwarnings('ignore')\n",
    "\n",
    "train_df = pd.read_csv('./datasets/titanic/train.csv')\n",
    "test_df = pd.read_csv('./datasets/titanic/test.csv')\n",
    "test_y_df = pd.read_csv('./datasets/titanic/gender_submission.csv')"
   ]
  },
  {
   "cell_type": "code",
   "execution_count": 3,
   "metadata": {},
   "outputs": [],
   "source": [
    "train = train_df[['Pclass', 'Sex', 'Age', 'Survived']]\n",
    "test = test_df[['Pclass', 'Sex', 'Age']]\n",
    "test_y = test_y_df['Survived']"
   ]
  },
  {
   "cell_type": "code",
   "execution_count": 4,
   "metadata": {},
   "outputs": [],
   "source": [
    "train = train.dropna(axis=0)"
   ]
  },
  {
   "cell_type": "code",
   "execution_count": 5,
   "metadata": {},
   "outputs": [],
   "source": [
    "# 'Sex' Labelencoding\n",
    "encoder = LabelEncoder()\n",
    "data = encoder.fit_transform(train['Sex'])\n",
    "\n",
    "train['Sex'] = data"
   ]
  },
  {
   "cell_type": "code",
   "execution_count": 6,
   "metadata": {},
   "outputs": [],
   "source": [
    "# 'Age' Scaling\n",
    "scaler = MinMaxScaler()\n",
    "data = scaler.fit_transform(train[['Age']])\n",
    "\n",
    "train['Age'] = data"
   ]
  },
  {
   "cell_type": "code",
   "execution_count": 36,
   "metadata": {},
   "outputs": [
    {
     "data": {
      "text/html": [
       "<style>#sk-container-id-3 {color: black;background-color: white;}#sk-container-id-3 pre{padding: 0;}#sk-container-id-3 div.sk-toggleable {background-color: white;}#sk-container-id-3 label.sk-toggleable__label {cursor: pointer;display: block;width: 100%;margin-bottom: 0;padding: 0.3em;box-sizing: border-box;text-align: center;}#sk-container-id-3 label.sk-toggleable__label-arrow:before {content: \"▸\";float: left;margin-right: 0.25em;color: #696969;}#sk-container-id-3 label.sk-toggleable__label-arrow:hover:before {color: black;}#sk-container-id-3 div.sk-estimator:hover label.sk-toggleable__label-arrow:before {color: black;}#sk-container-id-3 div.sk-toggleable__content {max-height: 0;max-width: 0;overflow: hidden;text-align: left;background-color: #f0f8ff;}#sk-container-id-3 div.sk-toggleable__content pre {margin: 0.2em;color: black;border-radius: 0.25em;background-color: #f0f8ff;}#sk-container-id-3 input.sk-toggleable__control:checked~div.sk-toggleable__content {max-height: 200px;max-width: 100%;overflow: auto;}#sk-container-id-3 input.sk-toggleable__control:checked~label.sk-toggleable__label-arrow:before {content: \"▾\";}#sk-container-id-3 div.sk-estimator input.sk-toggleable__control:checked~label.sk-toggleable__label {background-color: #d4ebff;}#sk-container-id-3 div.sk-label input.sk-toggleable__control:checked~label.sk-toggleable__label {background-color: #d4ebff;}#sk-container-id-3 input.sk-hidden--visually {border: 0;clip: rect(1px 1px 1px 1px);clip: rect(1px, 1px, 1px, 1px);height: 1px;margin: -1px;overflow: hidden;padding: 0;position: absolute;width: 1px;}#sk-container-id-3 div.sk-estimator {font-family: monospace;background-color: #f0f8ff;border: 1px dotted black;border-radius: 0.25em;box-sizing: border-box;margin-bottom: 0.5em;}#sk-container-id-3 div.sk-estimator:hover {background-color: #d4ebff;}#sk-container-id-3 div.sk-parallel-item::after {content: \"\";width: 100%;border-bottom: 1px solid gray;flex-grow: 1;}#sk-container-id-3 div.sk-label:hover label.sk-toggleable__label {background-color: #d4ebff;}#sk-container-id-3 div.sk-serial::before {content: \"\";position: absolute;border-left: 1px solid gray;box-sizing: border-box;top: 0;bottom: 0;left: 50%;z-index: 0;}#sk-container-id-3 div.sk-serial {display: flex;flex-direction: column;align-items: center;background-color: white;padding-right: 0.2em;padding-left: 0.2em;position: relative;}#sk-container-id-3 div.sk-item {position: relative;z-index: 1;}#sk-container-id-3 div.sk-parallel {display: flex;align-items: stretch;justify-content: center;background-color: white;position: relative;}#sk-container-id-3 div.sk-item::before, #sk-container-id-3 div.sk-parallel-item::before {content: \"\";position: absolute;border-left: 1px solid gray;box-sizing: border-box;top: 0;bottom: 0;left: 50%;z-index: -1;}#sk-container-id-3 div.sk-parallel-item {display: flex;flex-direction: column;z-index: 1;position: relative;background-color: white;}#sk-container-id-3 div.sk-parallel-item:first-child::after {align-self: flex-end;width: 50%;}#sk-container-id-3 div.sk-parallel-item:last-child::after {align-self: flex-start;width: 50%;}#sk-container-id-3 div.sk-parallel-item:only-child::after {width: 0;}#sk-container-id-3 div.sk-dashed-wrapped {border: 1px dashed gray;margin: 0 0.4em 0.5em 0.4em;box-sizing: border-box;padding-bottom: 0.4em;background-color: white;}#sk-container-id-3 div.sk-label label {font-family: monospace;font-weight: bold;display: inline-block;line-height: 1.2em;}#sk-container-id-3 div.sk-label-container {text-align: center;}#sk-container-id-3 div.sk-container {/* jupyter's `normalize.less` sets `[hidden] { display: none; }` but bootstrap.min.css set `[hidden] { display: none !important; }` so we also need the `!important` here to be able to override the default hidden behavior on the sphinx rendered scikit-learn.org. See: https://github.com/scikit-learn/scikit-learn/issues/21755 */display: inline-block !important;position: relative;}#sk-container-id-3 div.sk-text-repr-fallback {display: none;}</style><div id=\"sk-container-id-3\" class=\"sk-top-container\"><div class=\"sk-text-repr-fallback\"><pre>LogisticRegression()</pre><b>In a Jupyter environment, please rerun this cell to show the HTML representation or trust the notebook. <br />On GitHub, the HTML representation is unable to render, please try loading this page with nbviewer.org.</b></div><div class=\"sk-container\" hidden><div class=\"sk-item\"><div class=\"sk-estimator sk-toggleable\"><input class=\"sk-toggleable__control sk-hidden--visually\" id=\"sk-estimator-id-3\" type=\"checkbox\" checked><label for=\"sk-estimator-id-3\" class=\"sk-toggleable__label sk-toggleable__label-arrow\">LogisticRegression</label><div class=\"sk-toggleable__content\"><pre>LogisticRegression()</pre></div></div></div></div></div>"
      ],
      "text/plain": [
       "LogisticRegression()"
      ]
     },
     "execution_count": 36,
     "metadata": {},
     "output_type": "execute_result"
    }
   ],
   "source": [
    "X = train.drop('Survived', axis=1)\n",
    "y = train['Survived']\n",
    "\n",
    "lr = LogisticRegression()\n",
    "\n",
    "lr.fit(X, y)"
   ]
  },
  {
   "cell_type": "code",
   "execution_count": 38,
   "metadata": {},
   "outputs": [],
   "source": [
    "dt = DecisionTreeClassifier(random_state=42)\n",
    "\n",
    "dt.fit(X, y)\n",
    "dt_pred_proba = dt.predict_proba(test)\n",
    "dt_fpr, dt_tpr, dt_threshold = roc_curve(test_y, dt_pred_proba[:, 1])"
   ]
  },
  {
   "cell_type": "code",
   "execution_count": 8,
   "metadata": {},
   "outputs": [],
   "source": [
    "# test data 전처리\n",
    "test = test.fillna(np.mean(test['Age']))\n",
    "\n",
    "# 'Sex' Labelencoding\n",
    "encoder = LabelEncoder()\n",
    "data = encoder.fit_transform(test['Sex'])\n",
    "\n",
    "test['Sex'] = data\n",
    "\n",
    "# 'Age' Scaling\n",
    "scaler = MinMaxScaler()\n",
    "data = scaler.fit_transform(test[['Age']])\n",
    "\n",
    "test['Age'] = data"
   ]
  },
  {
   "cell_type": "code",
   "execution_count": 9,
   "metadata": {},
   "outputs": [],
   "source": [
    "pred = lr.predict(test)"
   ]
  },
  {
   "cell_type": "code",
   "execution_count": 11,
   "metadata": {},
   "outputs": [],
   "source": [
    "pred_proba = lr.predict_proba(test)"
   ]
  },
  {
   "cell_type": "code",
   "execution_count": 12,
   "metadata": {},
   "outputs": [
    {
     "data": {
      "text/plain": [
       "array([[0.92140531, 0.07859469],\n",
       "       [0.59987979, 0.40012021],\n",
       "       [0.88759265, 0.11240735],\n",
       "       [0.90468156, 0.09531844],\n",
       "       [0.42576367, 0.57423633],\n",
       "       [0.86809473, 0.13190527],\n",
       "       [0.4815489 , 0.5184511 ],\n",
       "       [0.741245  , 0.258755  ],\n",
       "       [0.39847677, 0.60152323],\n",
       "       [0.88907928, 0.11092072],\n",
       "       [0.91233877, 0.08766123],\n",
       "       [0.60968801, 0.39031199],\n",
       "       [0.06846683, 0.93153317],\n",
       "       [0.89037219, 0.10962781],\n",
       "       [0.12625043, 0.87374957],\n",
       "       [0.19582866, 0.80417134],\n",
       "       [0.78683182, 0.21316818],\n",
       "       [0.88907928, 0.11092072],\n",
       "       [0.46049937, 0.53950063],\n",
       "       [0.58628643, 0.41371357],\n",
       "       [0.66807347, 0.33192653],\n",
       "       [0.85111748, 0.14888252],\n",
       "       [0.08274279, 0.91725721],\n",
       "       [0.43582593, 0.56417407],\n",
       "       [0.12939017, 0.87060983],\n",
       "       [0.94775495, 0.05224505],\n",
       "       [0.06669219, 0.93330781],\n",
       "       [0.89317761, 0.10682239],\n",
       "       [0.57570754, 0.42429246],\n",
       "       [0.91233877, 0.08766123],\n",
       "       [0.84920837, 0.15079163],\n",
       "       [0.73029502, 0.26970498],\n",
       "       [0.50266412, 0.49733588],\n",
       "       [0.48346591, 0.51653409],\n",
       "       [0.49884091, 0.50115909],\n",
       "       [0.88194287, 0.11805713],\n",
       "       [0.48346591, 0.51653409],\n",
       "       [0.4188925 , 0.5811075 ],\n",
       "       [0.89971212, 0.10028788],\n",
       "       [0.91233877, 0.08766123],\n",
       "       [0.93010723, 0.06989277],\n",
       "       [0.50076027, 0.49923973],\n",
       "       [0.93368155, 0.06631845],\n",
       "       [0.22381289, 0.77618711],\n",
       "       [0.12016633, 0.87983367],\n",
       "       [0.89971212, 0.10028788],\n",
       "       [0.60296534, 0.39703466],\n",
       "       [0.91233877, 0.08766123],\n",
       "       [0.17244696, 0.82755304],\n",
       "       [0.52376984, 0.47623016],\n",
       "       [0.45670237, 0.54329763],\n",
       "       [0.74661023, 0.25338977],\n",
       "       [0.17869243, 0.82130757],\n",
       "       [0.07801282, 0.92198718],\n",
       "       [0.76364829, 0.23635171],\n",
       "       [0.85465125, 0.14534875],\n",
       "       [0.9224191 , 0.0775809 ],\n",
       "       [0.89971212, 0.10028788],\n",
       "       [0.91233877, 0.08766123],\n",
       "       [0.09583885, 0.90416115],\n",
       "       [0.87747263, 0.12252737],\n",
       "       [0.77231661, 0.22768339],\n",
       "       [0.8804687 , 0.1195313 ],\n",
       "       [0.42576367, 0.57423633],\n",
       "       [0.38144048, 0.61855952],\n",
       "       [0.22514945, 0.77485055],\n",
       "       [0.39847677, 0.60152323],\n",
       "       [0.61636927, 0.38363073],\n",
       "       [0.50588184, 0.49411816],\n",
       "       [0.17244696, 0.82755304],\n",
       "       [0.43958981, 0.56041019],\n",
       "       [0.88907928, 0.11092072],\n",
       "       [0.47452139, 0.52547861],\n",
       "       [0.48828124, 0.51171876],\n",
       "       [0.09342589, 0.90657411],\n",
       "       [0.516438  , 0.483562  ],\n",
       "       [0.91233877, 0.08766123],\n",
       "       [0.15326652, 0.84673348],\n",
       "       [0.76225979, 0.23774021],\n",
       "       [0.43958981, 0.56041019],\n",
       "       [0.84009004, 0.15990996],\n",
       "       [0.7383601 , 0.2616399 ],\n",
       "       [0.62959867, 0.37040133],\n",
       "       [0.91233877, 0.08766123],\n",
       "       [0.76364829, 0.23635171],\n",
       "       [0.91233877, 0.08766123],\n",
       "       [0.46049937, 0.53950063],\n",
       "       [0.39847677, 0.60152323],\n",
       "       [0.48346591, 0.51653409],\n",
       "       [0.5930271 , 0.4069729 ],\n",
       "       [0.42576367, 0.57423633],\n",
       "       [0.91233877, 0.08766123],\n",
       "       [0.07601094, 0.92398906],\n",
       "       [0.91233877, 0.08766123],\n",
       "       [0.46369884, 0.53630116],\n",
       "       [0.89971212, 0.10028788],\n",
       "       [0.2464296 , 0.7535704 ],\n",
       "       [0.90942953, 0.09057047],\n",
       "       [0.41205264, 0.58794736],\n",
       "       [0.91829089, 0.08170911],\n",
       "       [0.11433706, 0.88566294],\n",
       "       [0.74661023, 0.25338977],\n",
       "       [0.91233877, 0.08766123],\n",
       "       [0.90222498, 0.09777502],\n",
       "       [0.38505524, 0.61494476],\n",
       "       [0.90708276, 0.09291724],\n",
       "       [0.88907928, 0.11092072],\n",
       "       [0.91233877, 0.08766123],\n",
       "       [0.91233877, 0.08766123],\n",
       "       [0.69872069, 0.30127931],\n",
       "       [0.81380437, 0.18619563],\n",
       "       [0.48346591, 0.51653409],\n",
       "       [0.09583885, 0.90416115],\n",
       "       [0.401857  , 0.598143  ],\n",
       "       [0.18484073, 0.81515927],\n",
       "       [0.8804687 , 0.1195313 ],\n",
       "       [0.91233877, 0.08766123],\n",
       "       [0.29098228, 0.70901772],\n",
       "       [0.54099592, 0.45900408],\n",
       "       [0.21895816, 0.78104184],\n",
       "       [0.14797781, 0.85202219],\n",
       "       [0.91233877, 0.08766123],\n",
       "       [0.09342589, 0.90657411],\n",
       "       [0.90708276, 0.09291724],\n",
       "       [0.91233877, 0.08766123],\n",
       "       [0.39174554, 0.60825446],\n",
       "       [0.89182653, 0.10817347],\n",
       "       [0.48346591, 0.51653409],\n",
       "       [0.81803443, 0.18196557],\n",
       "       [0.89714204, 0.10285796],\n",
       "       [0.91615255, 0.08384745],\n",
       "       [0.65546626, 0.34453374],\n",
       "       [0.48346591, 0.51653409],\n",
       "       [0.91233877, 0.08766123],\n",
       "       [0.93708545, 0.06291455],\n",
       "       [0.89714204, 0.10285796],\n",
       "       [0.90346025, 0.09653975],\n",
       "       [0.741245  , 0.258755  ],\n",
       "       [0.43266363, 0.56733637],\n",
       "       [0.93191613, 0.06808387],\n",
       "       [0.34589454, 0.65410546],\n",
       "       [0.08876293, 0.91123707],\n",
       "       [0.70442797, 0.29557203],\n",
       "       [0.75190145, 0.24809855],\n",
       "       [0.58257223, 0.41742777],\n",
       "       [0.9139635 , 0.0860365 ],\n",
       "       [0.50076027, 0.49923973],\n",
       "       [0.89182653, 0.10817347],\n",
       "       [0.50076027, 0.49923973],\n",
       "       [0.76225979, 0.23774021],\n",
       "       [0.06846683, 0.93153317],\n",
       "       [0.91233877, 0.08766123],\n",
       "       [0.96060338, 0.03939662],\n",
       "       [0.52376984, 0.47623016],\n",
       "       [0.86483611, 0.13516389],\n",
       "       [0.89714204, 0.10285796],\n",
       "       [0.08006285, 0.91993715],\n",
       "       [0.43266363, 0.56733637],\n",
       "       [0.58257223, 0.41742777],\n",
       "       [0.45351035, 0.54648965],\n",
       "       [0.48346591, 0.51653409],\n",
       "       [0.84383752, 0.15616248],\n",
       "       [0.20485166, 0.79514834],\n",
       "       [0.91233877, 0.08766123],\n",
       "       [0.81380437, 0.18619563],\n",
       "       [0.45351035, 0.54648965],\n",
       "       [0.62300688, 0.37699312],\n",
       "       [0.8804687 , 0.1195313 ],\n",
       "       [0.08274279, 0.91725721],\n",
       "       [0.42576367, 0.57423633],\n",
       "       [0.91233877, 0.08766123],\n",
       "       [0.90468156, 0.09531844],\n",
       "       [0.89451381, 0.10548619],\n",
       "       [0.91233877, 0.08766123],\n",
       "       [0.93191613, 0.06808387],\n",
       "       [0.15895076, 0.84104924],\n",
       "       [0.17869243, 0.82130757],\n",
       "       [0.66179859, 0.33820141],\n",
       "       [0.25453037, 0.74546963],\n",
       "       [0.18912218, 0.81087782],\n",
       "       [0.76225979, 0.23774021],\n",
       "       [0.54798126, 0.45201874],\n",
       "       [0.0600129 , 0.9399871 ],\n",
       "       [0.91233877, 0.08766123],\n",
       "       [0.07601094, 0.92398906],\n",
       "       [0.80949887, 0.19050113],\n",
       "       [0.18286342, 0.81713658],\n",
       "       [0.87747263, 0.12252737],\n",
       "       [0.48346591, 0.51653409],\n",
       "       [0.80949887, 0.19050113],\n",
       "       [0.78206964, 0.21793036],\n",
       "       [0.50076027, 0.49923973],\n",
       "       [0.85982108, 0.14017892],\n",
       "       [0.88475177, 0.11524823],\n",
       "       [0.63308687, 0.36691313],\n",
       "       [0.91829089, 0.08170911],\n",
       "       [0.33612909, 0.66387091],\n",
       "       [0.39847677, 0.60152323],\n",
       "       [0.72471171, 0.27528829],\n",
       "       [0.48346591, 0.51653409],\n",
       "       [0.48346591, 0.51653409],\n",
       "       [0.81745566, 0.18254434],\n",
       "       [0.61636927, 0.38363073],\n",
       "       [0.13432939, 0.86567061],\n",
       "       [0.73580637, 0.26419363],\n",
       "       [0.50076027, 0.49923973],\n",
       "       [0.5167403 , 0.4832597 ],\n",
       "       [0.73029502, 0.26970498],\n",
       "       [0.08876293, 0.91123707],\n",
       "       [0.89971212, 0.10028788],\n",
       "       [0.91615255, 0.08384745],\n",
       "       [0.91233877, 0.08766123],\n",
       "       [0.68975326, 0.31024674],\n",
       "       [0.40163958, 0.59836042],\n",
       "       [0.53779793, 0.46220207],\n",
       "       [0.58257223, 0.41742777],\n",
       "       [0.48346591, 0.51653409],\n",
       "       [0.68044425, 0.31955575],\n",
       "       [0.13586916, 0.86413084],\n",
       "       [0.91233877, 0.08766123],\n",
       "       [0.22381289, 0.77618711],\n",
       "       [0.88907928, 0.11092072],\n",
       "       [0.18710958, 0.81289042],\n",
       "       [0.88907928, 0.11092072],\n",
       "       [0.14609819, 0.85390181],\n",
       "       [0.48346591, 0.51653409],\n",
       "       [0.89451381, 0.10548619],\n",
       "       [0.48346591, 0.51653409],\n",
       "       [0.93280422, 0.06719578],\n",
       "       [0.79151767, 0.20848233],\n",
       "       [0.67138845, 0.32861155],\n",
       "       [0.06496034, 0.93503966],\n",
       "       [0.88907928, 0.11092072],\n",
       "       [0.91233877, 0.08766123],\n",
       "       [0.56189272, 0.43810728],\n",
       "       [0.88627115, 0.11372885],\n",
       "       [0.72171168, 0.27828832],\n",
       "       [0.88627115, 0.11372885],\n",
       "       [0.17057449, 0.82942551],\n",
       "       [0.12939017, 0.87060983],\n",
       "       [0.15326652, 0.84673348],\n",
       "       [0.30552794, 0.69447206],\n",
       "       [0.60296534, 0.39703466],\n",
       "       [0.91233877, 0.08766123],\n",
       "       [0.91233877, 0.08766123],\n",
       "       [0.57570754, 0.42429246],\n",
       "       [0.18710958, 0.81289042],\n",
       "       [0.81803443, 0.18196557],\n",
       "       [0.21895816, 0.78104184],\n",
       "       [0.48346591, 0.51653409],\n",
       "       [0.11278374, 0.88721626],\n",
       "       [0.88627115, 0.11372885],\n",
       "       [0.47773202, 0.52226798],\n",
       "       [0.89714204, 0.10285796],\n",
       "       [0.917228  , 0.082772  ],\n",
       "       [0.91233877, 0.08766123],\n",
       "       [0.91233877, 0.08766123],\n",
       "       [0.90708276, 0.09291724],\n",
       "       [0.17459626, 0.82540374],\n",
       "       [0.88907928, 0.11092072],\n",
       "       [0.92538896, 0.07461104],\n",
       "       [0.88907928, 0.11092072],\n",
       "       [0.21895816, 0.78104184],\n",
       "       [0.29098228, 0.70901772],\n",
       "       [0.76225979, 0.23774021],\n",
       "       [0.91233877, 0.08766123],\n",
       "       [0.50076027, 0.49923973],\n",
       "       [0.91233877, 0.08766123],\n",
       "       [0.48346591, 0.51653409],\n",
       "       [0.87747263, 0.12252737],\n",
       "       [0.60968801, 0.39031199],\n",
       "       [0.91233877, 0.08766123],\n",
       "       [0.0740563 , 0.9259437 ],\n",
       "       [0.48346591, 0.51653409],\n",
       "       [0.91233877, 0.08766123],\n",
       "       [0.17869243, 0.82130757],\n",
       "       [0.75190145, 0.24809855],\n",
       "       [0.80949887, 0.19050113],\n",
       "       [0.76225979, 0.23774021],\n",
       "       [0.71905728, 0.28094272],\n",
       "       [0.43266363, 0.56733637],\n",
       "       [0.81921421, 0.18078579],\n",
       "       [0.48346591, 0.51653409],\n",
       "       [0.33955016, 0.66044984],\n",
       "       [0.29682703, 0.70317297],\n",
       "       [0.9244108 , 0.0755892 ],\n",
       "       [0.91233877, 0.08766123],\n",
       "       [0.45670237, 0.54329763],\n",
       "       [0.91233877, 0.08766123],\n",
       "       [0.91233877, 0.08766123],\n",
       "       [0.50076027, 0.49923973],\n",
       "       [0.4815489 , 0.5184511 ],\n",
       "       [0.91233877, 0.08766123],\n",
       "       [0.65546626, 0.34453374],\n",
       "       [0.9244108 , 0.0755892 ],\n",
       "       [0.90222498, 0.09777502],\n",
       "       [0.11300939, 0.88699061],\n",
       "       [0.91233877, 0.08766123],\n",
       "       [0.49884091, 0.50115909],\n",
       "       [0.90942953, 0.09057047],\n",
       "       [0.91615255, 0.08384745],\n",
       "       [0.76364829, 0.23635171],\n",
       "       [0.82218939, 0.17781061],\n",
       "       [0.89714204, 0.10285796],\n",
       "       [0.48346591, 0.51653409],\n",
       "       [0.18912218, 0.81087782],\n",
       "       [0.49884091, 0.50115909],\n",
       "       [0.81954767, 0.18045233],\n",
       "       [0.66807347, 0.33192653],\n",
       "       [0.58628643, 0.41371357],\n",
       "       [0.8804687 , 0.1195313 ],\n",
       "       [0.89182653, 0.10817347],\n",
       "       [0.91233877, 0.08766123],\n",
       "       [0.53078997, 0.46921003],\n",
       "       [0.15326652, 0.84673348],\n",
       "       [0.39174554, 0.60825446],\n",
       "       [0.68044425, 0.31955575],\n",
       "       [0.70167686, 0.29832314],\n",
       "       [0.90468156, 0.09531844],\n",
       "       [0.71905728, 0.28094272],\n",
       "       [0.90222498, 0.09777502],\n",
       "       [0.89971212, 0.10028788],\n",
       "       [0.741245  , 0.258755  ],\n",
       "       [0.51995393, 0.48004607],\n",
       "       [0.10341482, 0.89658518],\n",
       "       [0.89451381, 0.10548619],\n",
       "       [0.14797781, 0.85202219],\n",
       "       [0.60968801, 0.39031199],\n",
       "       [0.75711812, 0.24288188],\n",
       "       [0.71333265, 0.28666735],\n",
       "       [0.32374453, 0.67625547],\n",
       "       [0.56189272, 0.43810728],\n",
       "       [0.91233877, 0.08766123],\n",
       "       [0.40524659, 0.59475341],\n",
       "       [0.90468156, 0.09531844],\n",
       "       [0.49884091, 0.50115909],\n",
       "       [0.77231661, 0.22768339],\n",
       "       [0.93010723, 0.06989277],\n",
       "       [0.73580637, 0.26419363],\n",
       "       [0.91233877, 0.08766123],\n",
       "       [0.69574793, 0.30425207],\n",
       "       [0.91615255, 0.08384745],\n",
       "       [0.91233877, 0.08766123],\n",
       "       [0.1645559 , 0.8354441 ],\n",
       "       [0.91233877, 0.08766123],\n",
       "       [0.38505524, 0.61494476],\n",
       "       [0.741245  , 0.258755  ],\n",
       "       [0.53779793, 0.46220207],\n",
       "       [0.73029502, 0.26970498],\n",
       "       [0.22874373, 0.77125627],\n",
       "       [0.12016633, 0.87983367],\n",
       "       [0.73580637, 0.26419363],\n",
       "       [0.69574793, 0.30425207],\n",
       "       [0.84556618, 0.15443382],\n",
       "       [0.28618304, 0.71381696],\n",
       "       [0.63614251, 0.36385749],\n",
       "       [0.16846459, 0.83153541],\n",
       "       [0.91233877, 0.08766123],\n",
       "       [0.91233877, 0.08766123],\n",
       "       [0.4815489 , 0.5184511 ],\n",
       "       [0.86969891, 0.13030109],\n",
       "       [0.19582866, 0.80417134],\n",
       "       [0.22874373, 0.77125627],\n",
       "       [0.90468156, 0.09531844],\n",
       "       [0.072148  , 0.927852  ],\n",
       "       [0.48346591, 0.51653409],\n",
       "       [0.91233877, 0.08766123],\n",
       "       [0.42576367, 0.57423633],\n",
       "       [0.12016633, 0.87983367],\n",
       "       [0.75711812, 0.24288188],\n",
       "       [0.71333265, 0.28666735],\n",
       "       [0.08431106, 0.91568894],\n",
       "       [0.62959867, 0.37040133],\n",
       "       [0.82626962, 0.17373038],\n",
       "       [0.14964699, 0.85035301],\n",
       "       [0.12016633, 0.87983367],\n",
       "       [0.42576367, 0.57423633],\n",
       "       [0.71333265, 0.28666735],\n",
       "       [0.66807347, 0.33192653],\n",
       "       [0.83627007, 0.16372993],\n",
       "       [0.91233877, 0.08766123],\n",
       "       [0.90222498, 0.09777502],\n",
       "       [0.48346591, 0.51653409],\n",
       "       [0.40524659, 0.59475341],\n",
       "       [0.76364829, 0.23635171],\n",
       "       [0.19582866, 0.80417134],\n",
       "       [0.89714204, 0.10285796],\n",
       "       [0.8727571 , 0.1272429 ],\n",
       "       [0.88907928, 0.11092072],\n",
       "       [0.84009004, 0.15990996],\n",
       "       [0.44972293, 0.55027707],\n",
       "       [0.13921   , 0.86079   ],\n",
       "       [0.86483611, 0.13516389],\n",
       "       [0.83806642, 0.16193358],\n",
       "       [0.90942953, 0.09057047],\n",
       "       [0.0600129 , 0.9399871 ],\n",
       "       [0.89714204, 0.10285796],\n",
       "       [0.12939017, 0.87060983],\n",
       "       [0.89182653, 0.10817347],\n",
       "       [0.9139635 , 0.0860365 ],\n",
       "       [0.08216196, 0.91783804],\n",
       "       [0.80066049, 0.19933951],\n",
       "       [0.06669219, 0.93330781],\n",
       "       [0.40835274, 0.59164726],\n",
       "       [0.58940506, 0.41059494],\n",
       "       [0.70753882, 0.29246118],\n",
       "       [0.72471171, 0.27528829],\n",
       "       [0.63614251, 0.36385749],\n",
       "       [0.48346591, 0.51653409],\n",
       "       [0.30273906, 0.69726094],\n",
       "       [0.48346591, 0.51653409],\n",
       "       [0.09830737, 0.90169263],\n",
       "       [0.46750397, 0.53249603],\n",
       "       [0.91233877, 0.08766123],\n",
       "       [0.10341482, 0.89658518],\n",
       "       [0.9291862 , 0.0708138 ],\n",
       "       [0.91233877, 0.08766123],\n",
       "       [0.91233877, 0.08766123]])"
      ]
     },
     "execution_count": 12,
     "metadata": {},
     "output_type": "execute_result"
    }
   ],
   "source": [
    "pred_proba"
   ]
  },
  {
   "cell_type": "code",
   "execution_count": 16,
   "metadata": {},
   "outputs": [
    {
     "data": {
      "text/plain": [
       "418"
      ]
     },
     "execution_count": 16,
     "metadata": {},
     "output_type": "execute_result"
    }
   ],
   "source": [
    "pred_proba_class1 = lr.predict_proba(test)[:, 1]\n",
    "len(pred_proba_class1)"
   ]
  },
  {
   "cell_type": "code",
   "execution_count": 17,
   "metadata": {},
   "outputs": [],
   "source": [
    "fprs, tprs, thresholds = roc_curve(test_y, pred_proba_class1)"
   ]
  },
  {
   "cell_type": "code",
   "execution_count": 18,
   "metadata": {},
   "outputs": [
    {
     "name": "stdout",
     "output_type": "stream",
     "text": [
      "샘플 추출을 위한 임곗값 배열의 index:  [  1   6  11  16  21  26  31  36  41  46  51  56  61  66  71  76  81  86\n",
      "  91  96 101 106 111 116 121 126 131]\n",
      "샘플 index로 추출한 임곗값 :  [0.94 0.92 0.9  0.85 0.83 0.8  0.77 0.65 0.59 0.56 0.54 0.52 0.48 0.46\n",
      " 0.41 0.38 0.33 0.29 0.26 0.24 0.18 0.14 0.11 0.11 0.1  0.08 0.07]\n"
     ]
    }
   ],
   "source": [
    "thr_index = np.arange(1, thresholds.shape[0], 5)\n",
    "print('샘플 추출을 위한 임곗값 배열의 index: ', thr_index)\n",
    "print('샘플 index로 추출한 임곗값 : ', np.round(thresholds[thr_index], 2))"
   ]
  },
  {
   "cell_type": "code",
   "execution_count": 19,
   "metadata": {},
   "outputs": [
    {
     "name": "stdout",
     "output_type": "stream",
     "text": [
      "샘플 임곗값별 FPR :  [0.    0.    0.    0.    0.    0.    0.    0.004 0.008 0.015 0.026 0.034\n",
      " 0.086 0.09  0.132 0.162 0.203 0.241 0.293 0.368 0.414 0.481 0.538 0.602\n",
      " 0.68  0.932 0.966]\n",
      "샘플 임곗값별 TPR :  [0.013 0.092 0.171 0.27  0.349 0.434 0.493 0.566 0.645 0.717 0.757 0.934\n",
      " 0.941 0.98  0.993 1.    1.    1.    1.    1.    1.    1.    1.    1.\n",
      " 1.    1.    1.   ]\n"
     ]
    }
   ],
   "source": [
    "print('샘플 임곗값별 FPR : ', np.round(fprs[thr_index], 3))\n",
    "print('샘플 임곗값별 TPR : ', np.round(tprs[thr_index], 3))"
   ]
  },
  {
   "cell_type": "code",
   "execution_count": 32,
   "metadata": {},
   "outputs": [],
   "source": [
    "def roc_curve_plot(y_test, pred_proba_c1):\n",
    "\tfprs, tprs, thresholds = roc_curve(test_y, pred_proba_c1)\n",
    "\n",
    "\tplt.plot(fprs, tprs, label='ROC')\n",
    "\tplt.plot([0, 1], [0, 1], 'k--', label='Random')\n",
    "\n",
    "\tstart, end = plt.xlim()\n",
    "\tplt.xticks(np.round(np.arange(start, end, 0.1), 2))\n",
    "\tplt.xlim(0, 1); plt.ylim(0, 1)\n",
    "\tplt.xlabel('FPR( 1 - Sensitivity )'); plt.ylabel('TPR( Recall )')\n",
    "\tplt.legend()\n",
    "\tplt.show()\n",
    "\t"
   ]
  },
  {
   "cell_type": "code",
   "execution_count": 42,
   "metadata": {},
   "outputs": [
    {
     "data": {
      "image/png": "[encoded data removed]",
      "text/plain": [
       "<Figure size 432x288 with 1 Axes>"
      ]
     },
     "metadata": {
      "needs_background": "light"
     },
     "output_type": "display_data"
    }
   ],
   "source": [
    "plt.title(\"Roc Curve\")\n",
    "\n",
    "plt.xlabel(\"FPR\")\n",
    "plt.ylabel(\"TPR\")\n",
    "\n",
    "plt.plot(fprs, tprs, \"b\", label = \"LogisticRegression\")\n",
    "plt.plot(dt_fpr, dt_tpr, \"r\", label = \"DecisionTree\")\n",
    "\n",
    "plt.show()"
   ]
  },
  {
   "cell_type": "code",
   "execution_count": 41,
   "metadata": {},
   "outputs": [
    {
     "data": {
      "image/png": "[encoded data removed]",
      "text/plain": [
       "<Figure size 432x288 with 1 Axes>"
      ]
     },
     "metadata": {
      "needs_background": "light"
     },
     "output_type": "display_data"
    }
   ],
   "source": [
    "roc_curve_plot(test_y, lr.predict_proba(test)[:, 1])"
   ]
  },
  {
   "cell_type": "code",
   "execution_count": 45,
   "metadata": {},
   "outputs": [],
   "source": [
    "from sklearn.metrics import roc_auc_score"
   ]
  },
  {
   "cell_type": "code",
   "execution_count": 46,
   "metadata": {},
   "outputs": [],
   "source": [
    "lr_auc = roc_auc_score(test_y, pred_proba[:, 1])\n",
    "dt_auc = roc_auc_score(test_y, dt_pred_proba[:, 1])"
   ]
  },
  {
   "cell_type": "code",
   "execution_count": 47,
   "metadata": {},
   "outputs": [
    {
     "name": "stdout",
     "output_type": "stream",
     "text": [
      "0.9852344677483182 0.7184161060546101\n"
     ]
    }
   ],
   "source": [
    "print(lr_auc, dt_auc)"
   ]
  },
  {
   "cell_type": "code",
   "execution_count": 50,
   "metadata": {},
   "outputs": [
    {
     "name": "stdout",
     "output_type": "stream",
     "text": [
      "Logistic Regression AUC : 0.9852344677483182\n",
      "DecisionTree AUC: 0.7184161060546101\n"
     ]
    }
   ],
   "source": [
    "print(f'Logistic Regression AUC : {lr_auc}\\nDecisionTree AUC: {dt_auc}')"
   ]
  },
  {
   "cell_type": "code",
   "execution_count": null,
   "metadata": {},
   "outputs": [],
   "source": []
  }
 ],
 "metadata": {
  "kernelspec": {
   "display_name": "Python 3",
   "language": "python",
   "name": "python3"
  },
  "language_info": {
   "codemirror_mode": {
    "name": "ipython",
    "version": 3
   },
   "file_extension": ".py",
   "mimetype": "text/x-python",
   "name": "python",
   "nbconvert_exporter": "python",
   "pygments_lexer": "ipython3",
   "version": "3.10.1"
  },
  "orig_nbformat": 4
 },
 "nbformat": 4,
 "nbformat_minor": 2
}
